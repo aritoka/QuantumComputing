{
 "cells": [
  {
   "cell_type": "markdown",
   "metadata": {},
   "source": [
    "# Quantum computing basics and Benchmarking Random Circuits"
   ]
  },
  {
   "cell_type": "markdown",
   "metadata": {},
   "source": [
    "In this tutorial we willgot through the basics of quantum computing and explain some of the problems encountered when trying to define benchmarks for quantum software and we will have a look at some performance metrics of two well quantum python libraries: Qiskit (Abraham et al., 2019(https://qiskit.org/)) and Qulacs (“Qulacs”, 2018(https://github.com/qulacs/qulacs)). \n",
    "\n",
    "\n",
    "## Contents \n",
    "\n",
    "1. [Introduction](#introduction)\n",
    "\n",
    "    1.1. [Quantum computing](#quantumcomp)\n",
    "    \n",
    "    1.2. [Benchmarking quantum simulators](#quantumsim)\n",
    "    \n",
    "    1.3. [Random Circuits](#randomcircuits)\n",
    "    \n",
    "    1.4. [Qiskit and Qulacs](#qulacs)\n",
    "    \n",
    "\n",
    "2. [Basic gates and circuits](#basiccircuits)\n",
    "\n",
    "    2.1. [Hadamards](#hadamards)\n",
    "    \n",
    "    2.2. [CNOT](#cnot)\n",
    "    \n",
    "    2.3. [Benchmarking gates: Hadamard,CNOT,T-gate](#timing)\n",
    "   \n",
    "\n",
    "3. [Random circuits](#randomcircuit)\n",
    "        \n",
    "    3.1. [Random circuit 1 time](#RC1time)\n",
    "    \n",
    "    3.2. [Random circuit 1 memory](#RC1mem)\n",
    "    \n",
    "    3.3. [Random circuit 2 time](#RCcliftime)\n",
    "    \n",
    "    3.4. [Random circuit 2 memory](#RCclifmem)\n",
    "    \n",
    "    3.5. [Running on a QPU](#ibmQPU)\n",
    "    \n",
    "3. [Conclusion](#conclusion)"
   ]
  },
  {
   "cell_type": "markdown",
   "metadata": {},
   "source": [
    "## 1. Introduction <a id='introduction'></a>\n",
    "\n",
    "### 1.1. Quantum computing <a id='quantumcomp'></a>\n",
    "In recent years quantum computing has become a buzzword and the possibility of a fully working quantum computer is becoming closer and closer. \n",
    "\n",
    "Both, quantum knowledge and technology have grown exponentially fast, even faster than classical computing in its early years, but still developing a non-trivial size quantum computer is not straight forward. We will probably have to wait some more years to witness their full power and applicability (although IBM has announced their roadmap with 1000+ qubits by the end of 2023!. \n",
    "\n",
    "The quantum computers available nowadays (eg. IBM, Google, QuTech, etc.) are what we call \"Noisy Intermediate-Scale Quantum devices\" (NISQ). They are quantum computers capable of executing quantum algorithms and calculations but where the sources of errors limits how reliable they are. \n",
    "NISQ devices can be benchmarked using the \"quantum volume\" (introduced by IBM), which takes into account not only the number of qubits (called the width of a circuit) but also the number of operations (called the depth of a circuit) a quantum computer can handle. The depth of a circuit, is influenced by things such as the number of qubits, how qubits are interconnected, gate and measurement errors, device cross talk, circuit compiler efficiency, and more.\n",
    "Therefore, it is a good indicator of the relative complexity of problems that can be solved by a quantum computer. The larger the number, the more powerful the quantum computer is  and the higher the potential for exploring solutions to real world problems across industry, government, and research is. More info can be found at https://medium.com/qiskit/what-is-quantum-volume-anyway-a4dff801c36f\n",
    "\n",
    "\n",
    "#### Quantum information\n",
    "Information in a quantum computer is stored in qubits.\n",
    "A qubit is a two state system with quantum properties, this means that as opposed to a bit that can only be in state 0 or 1 (on or off), a state of a qubit (denoted $|\\psi>$) can be in a combination (superposition) of the two states (called basis states),\n",
    "\n",
    "$|\\psi> = \\alpha|0> + \\beta|1>$\n",
    "\n",
    "The qubit is not 0 or 1 (on or off), but a little bit of both (like a dimmy light). How on or how off depends on the coefficients $\\alpha$ and $\\beta$ (called probability amplitudes).\n",
    "\n",
    "Before we measure a qubit there are two possible outcomes: 0 or 1 (the basis states of the measurment), but when the qubit is measured we \"force\" it to collapse into one of them. For the example above, the probability of measuring one state or the other (|0> or |1>) depends on how they contribute to the total state in the first place: depends on the values of $\\alpha$ and $\\beta$. The larger the magnitud of the probability amplitud the more likely it is we measure the associated state (as a side note, this values can also be negative!). The probability of actually measuring state |0> is given by $\\alpha^2$ and the probability of measuring state |1> is $\\beta^2$. Since the total probability of measuring one state has to be 1.0, we also know that $\\alpha^2 +\\beta^2 = 1$. \n",
    "\n",
    "Based on the above, it is not surprising that as opposed to a classical bit which can be described by only one number: 0 or 1, a qubit needs two numbers to be fully described: the probability amplitudes. A qubit can be represented as a vector with two entries:\n",
    "\n",
    "$|\\psi> = [\\alpha, \\beta]^T$\n",
    "\n",
    "In general however, a quantum computer does not consist of one qubit but many qubits interacting among them (how and which of them can interact depends on the topology of the actual hardware). The state of a quantum computer ($|\\psi>$) is therefore a combination of these qubit states and hence a combination of the basis states of the n-qubit system. \n",
    "\n",
    "The number of basis states of a system increases with the number of qubits as $2^n$ (n=number qubits) and hence the state of the quantum computer with n-qubits is fully described by a vector with $2^n$ entries (the probability amplitudes of the basis states of all qubits).\n",
    "\n",
    "For example, for a system of 2-qubits each qubit can be in state |0> or |1>, this means that a 2-qubit system can  be measured in states |00>, |01>, |10> or |11> (so all possible permutations). These are the basis states. Before measuring, the 2-qubit system can be any combination of this basis states:\n",
    "\n",
    "$|\\psi> = \\alpha|00> + \\beta|01> +\\gamma|10> +\\delta|11>$ \n",
    "\n",
    "and can be fully represented by the vector $[\\alpha, \\beta,\\gamma, \\delta]^T$\n",
    "\n",
    "Modifying a quanutm state means modifiying the probability amplitudes that describe it (the entries in the above vector). Measurments are a type of operation that do this. They \"turn\" all probability amplitudes to zero, except for one, which will have a value of 1.0 (basically they project the quantum state into one of the basis states). \n",
    "There are however many other operations that can modify the entries of such a \"quantum state\" vector and hence the quantum state of an n-qubit system. \n",
    "These operations (called quantum gates) can be used to manipulate the quantum state into a given outcome, hence we can use them to create algorithms. A quantum algorithm is just a sequence of gates with a given prupose. \n",
    "A quantum gate can be represented as $2^n$x$2^n$ unitary matrix (n the number of qubits in the system). The application of quantum gates to qubits corresponds to the multiplication of the n-qubit quantum state vector with the quantum gate matrix and results in a modification of the $2^n$ of the quantum state vector. \n",
    "\n",
    "Some gates are comparable to classical gates. For example the classical NOT gate can be compared to the quantum X gate. In classical computing the NOT-gate converts a 0 into a 1 and a 1 into a 0. The quantum X-gate swaps the probability amplitudes of both states and converts $|\\psi> = \\alpha |0> + \\beta|1>$ into $|\\psi>= \\beta|0> + \\alpha|0>$, which basically means the probability of measuring 0 or 1 is swap when we apply the X gate.\n",
    "For more examples of quantum gates we refer the reader to https://en.wikipedia.org/wiki/Quantum_logic_gate. For a more indepth knowledge of quantum gates we recommend for example: https://arxiv.org/pdf/1110.2998.pdf. How these gates are physically implemented depends on the type of qubits: trapped ions, NV centers, photons, etc. \n",
    "\n",
    "Most quantum gates act only in a small number of qubits (mostly due to experimental limitations).This is not a limitation as there exist sets of one- and two-qubit quantum gates which are universal for quantum computation: any operation possible on a quantum computer can be reduced to this set of gates. Interestingly, this also means that most gates can be computationally represented by relatively sparse matrices. \n",
    "\n",
    "One classification of quantum gates is the Clifford vs non-Clifford gates(https://en.wikipedia.org/wiki/Clifford_gates). The Clifford gates are important, because a universal gate set consists of all the Clifford gates plus one non-Clifford gate. The Clifford-gates include the Pauli-gates (I, X, Y and Z), the Hadamard gate, the S gate and the controlled-X gate. The non-Clifford gate group is an infinite group with all the other quantum gates. \n",
    "\n",
    "Clifford gates are interesting for quantum simulators because they can be simulated in polynomial time, while non-Clifford gates are exponentially hard to simulate on a classical computers (Gottesman-Knill theorem). For more information about the Gottesman-Knill theorem, reading \"Improved Simulation of Stabilizer Circuits\" by Scott Aaronson and Daniel Gottesman (Aaronson and Gottesman, 2004) is recommended. Inn practice this allows one to simulate circuits with  thousands  of  qubits.   It  also  means  that  a quantum computer will need to use gates outside of theClifford  group  in  order  to  achieve  useful  speedups  overclassical computation.  The full power of quantum computation can be recovered by adding a single non-Cliffordgate to the Clifford group. "
   ]
  },
  {
   "cell_type": "markdown",
   "metadata": {},
   "source": [
    "### 1.2. Benchmarking quantum simulators<a id='quantumsim'></a>\n",
    "\n",
    "A quantum simulator is a program that simulates how a quantum computer works; the exact calculation of the effects of every single gate on the qubits. Quantum simulators are used to increase and facilitate the development of quantum algorithms, their testing and debugging while non-trivial size quantum computer become available. They also allow for hardware-software co-design (Haner et al. https://arxiv.org/abs/1604.06460).\n",
    "The need of quantum simulators has lead to the development of many different frameworks and libraries (for a reasonably complete list we refer the reader to https://www.quantiki.org/wiki/list-qc-simulators), wchih rises the question: **which one should we use for a given problem?** Beyond understanding the different capabilitites of the softwares and libraries it is important to understand their functionality and performance in order to chose the most appropiate one for a given application/problem.\n",
    "\n",
    "Quantum simulators can differ from one an other on how the quantum state is stored, what gates are implemented, how measurments are performed, type of error sources that can be included, etc. These differences make it difficult to define a benchmark. \n",
    "\n",
    "In table below we present some of the differences among some libraries. If you want to look more into these different libraries Quantum Open Source Foundation https://qosf.org/ has a more complete list of them. \n",
    "\n",
    "|Library | explanation | link|\n",
    "| :------ | :------------- | :---- |\n",
    "| Cirq | Cirq is a Python library for writing, manipulating, and optimizing quantum circuits and running them against quantum computers and simulators. | https://github.com/quantumlib/Cirq | \n",
    "| PennyLane | A cross-platform Python library for quantum machine learning, automatic differentiation, and optimization of hybrid quantum-classical computations | https://pennylane.ai/ |\n",
    "| ProjectQ | Powerful open source software for quantum computing | https://projectq.ch/ |\n",
    "| QuEST | The Quantum Exact Simulation Toolkit is a high performance simulator of universal quantum circuits, state-vectors and density matrices. | https://github.com/quest-kit/QuEST |\n",
    "| Quantum++ | Quantum++ is a modern C++11 general purpose quantum computing library, composed solely of template header files. | https://github.com/softwareQinc/qpp |\n",
    "| Quantum Inspire | Run your own quantum algorithms on one of our simulators or hardware backends and experience the possibilities of quantum computing. | https://www.quantum-inspire.com/ |\n",
    "| Qiskit | Qiskit is an open-source framework for working with quantum computers at the level of circuits, pulses, and algorithms. | https://qiskit.org/ |\n",
    "| Qulacs | Qulacs is a python/C++ library for fast simulation of large, noisy, or parametric quantum circuits. | https://github.com/qulacs/qulacs |\n",
    "| Strawberry Fields | Strawberry Fields is a full-stack Python library for designing, simulating, and optimizing continuous variable quantum optical circuits. | https://github.com/xanaduai/strawberryfields |\n",
    "\n",
    "\n",
    "One of the main issues with quantum simulators are their limitations: they are normally memory bound and network bandwith limited. Trying to classically simulate a quantum system is very expensive... which is why we want quantum computers!\n",
    "\n",
    "As mentioned before, the size of the quantum states and quantum gates scales exponentially with the number of qubits. This also implies that the time and memory it takes to create them and operate with them in a classical computer in general scales exponentially, which of course limits the amount of qubits we can currently simulate in a computer. With this in mind, it is interesting to compare how the execution time and memory requirements scale with the number of qubits and depth (number of operations) of the circuit for the different quantum simulators, so basically how complex can the algorithms we want to simulate be. \n",
    "\n",
    "In previous papers (Jones et al., 2018) random circuits have been used to benchmark the performance of quantum simulators. Here, we will follow the same approach. \n",
    "\n",
    "\n",
    "### 1.3. Random circuits<a id='randomcircuits'></a>\n",
    "\n",
    "As mentioned before, given a quantum system of n-qubits, there is a continuous set of possible states: all of the different combination of the $2n$ basis states (different values of the probability amplitudes). \n",
    "The capacity of exploring and operating in all states is what quantum computers are all about. Classically this could take many many computational hours, months, even years, but using the quantum properties of the system this can be done very efficiently. An interesting question however is: how can we check we are exploring all states? One way of assesing this is by randomly producing n-qubit states and verifying that they are picked uniformly. \n",
    "This task although possible is also not straight forward for a quantum computer, the reason behind this is that most of the possible states are what we call \"entangled states\". Entangled states are not only difficult to create (assuming the standard set of single qubit rotations and two or three qubits entangling gates) but also highly unstable: they tend to decohere quickly due to interactions with an outside environment, which essentially drives the qubits to an unentangled states (like all qubits |0>). \n",
    "\n",
    "This can however be done by running random circuits of sufficient circuit depth. Random quantum circuits are circuits that can generate quantum random states: when fed a constant input, they produce a random quantum state in each execution. Executing it many times yields a sample of quantum states that contains fresh randomness inherent to the quantum evaluation. So, how do we generate quantum random states? As in the classical case, we need to randomly evolve the input quantum state. In the case of quantum, this needs to be understood in terms of random unitary transformations: we need to contruct random unitary transformation. The simplest way of achieving this is by selecting single and two-qubit gates from a universal gate set. \n",
    "\n",
    "\n",
    "Sampling the output distribution of a random  quantum circuit is a hard computational task and hence not possible with a classical computer. The randomness of the process ensures that there are no nice properties that could be exploited by a classical simulation. So the task of simulating arbitrary random circuits will require a full simulation of the n-qubits, and therefore the required classical resources will scale exponentially with $n$. \n",
    "In short, the output distribution of strings cannot be simulated in a short amount of time by a classical computer. This is basically what Google proved in their 2019 experiment of \"quantum supremacy\" using 53 qubits.\n",
    "\n",
    "\n",
    "In this tutorial we will implement and test different random circuits on two libraries: Qiskit and Qulacs and we will analyze their performance and properties.\n",
    "\n",
    "\n",
    "\n",
    "\n",
    "\n"
   ]
  },
  {
   "cell_type": "markdown",
   "metadata": {
    "pycharm": {
     "name": "#%% md\n"
    }
   },
   "source": [
    "###  1.4. Qiskit and Qulacs <a id='qulacs'></a>\n",
    "\n",
    "Before going into the actual code, below some summary properties of these simulators (for more info we refer the reader to the documentation pages of the software https://qiskit.org/documentation/, http://docs.qulacs.org/en/latest/guide/2.0_python_advanced.html#).\n",
    "\n",
    "#### Qiskit\n",
    "* The qubits are stored in a QuantumRegister and the measurement of the qubits are stored in a \"ClassicalRegister\". \n",
    "* The QuantumRegister and ClassicalRegister make the QuantumCircuit.\n",
    "* If we pass the entire quantum and classical registers as arguments to measure, the function will by default make a total measurement on the system, and store each qubit’s measurement results to the corresponding index in the ClassicalRegister: classical register numbers are backwards (based on the bit string  as usually defined in classical computer such that the LSB (least significant bit) is the right-most index)\n",
    "* The QuantumCircuit object is just a list of instructions, which aren’t actually carried out until we run it on some simulator (backend)\n",
    "* To execute the circuit on a certain backend you have to execute the whole circuit with that backend. That creates an object that handles a job, from the job you can extract the result.\n",
    "* In the case of the 'qasm_simulator' backend the output is the probability of a given measurment after 1024 circuit run\n",
    "* In the case of the 'statevector_simulator' backend, the circuit is executed a single shot and it returns the final quantum statevector of the simulation (wavefunction, 2n amplitudes) after evolving the zero state through the circuit\n",
    "* Both these backends are still classical (not calling any quanutm devices)\n",
    "* Qiskit Uses QASM simulator as quantum assembly\n",
    "* N-qubit Clifford operator are stored as a length 2N StabilizerTable \n",
    "* You can get intermediate states from a simulator by applying a snapshot(slot) instruction at various spots in the circuit\n",
    "* gates are represented as np.arrays\n",
    "* quantum registers adn classical registers are a QASM string register\n"
   ]
  },
  {
   "cell_type": "markdown",
   "metadata": {},
   "source": [
    "#### Qulacs \n",
    "\n",
    "It is not a well known library, but it has some great features that are useful for researchers. One of the most important features are that it can run on a GPU for faster simulations, in this notebook we will only use qulacs on a CPU. It also claims to compress circuits to simulate faster than other libraries. Nowadays there is also a Cirq interface for Qulacs (https://github.com/qulacs/cirq-qulacs).\n",
    "\n",
    "The core simulation program is written in C/C++ associated with a lightweight python interface.\n",
    "\n",
    "Some details:\n",
    "* Quantum states allocates and manages 2n complex arrays on the CPU/GPU with the precision of complex128.\n",
    "* Necessary memory is secured at the time of instance creation and released when the instance is destroyed\n",
    "* All the gates are stored in a QuantumCircuit of a certain amount of qubits. \n",
    "* Quantum states have classical registers as arrays of integers with variable length. The classical register is used to write the result of the Instrument operation or to describe a gate that executes conditions as the result of the classical register. \n",
    "* Special gates are those that have a pre-specified gate matrix and can only perform limited deformations on quantum gates. For example, Pauli gate, rotation Pauli gate, projection measurement, etc. are supported. The advantage of a special gate is that the update function of the quantum state is more efficient than a general gate with limited properties. \n",
    "* Gates can be defined as dense or sparse matrices\n",
    "* With a lot of qubits you will get an out of memory error, because Qulacs is not memory efficient. \n",
    "* You need a separate QuantumState and this state has to be set to the one or zero state for measurement.\n",
    "* QASM is used as quantum assembly language.\n",
    "* To execute the circuit on the quantum state you have to update that state with the circuit.\n",
    "* It measures a vector of the quantum state.\n",
    "* By combining quantum gates into a single quantum gate, the number of quantum gates can be reduced and the time required for numerical calculations can be reduced. (Of course, if the number of target qubits increases, or if a quantum gate with a dedicated function is synthesized into a quantum gate without a dedicated function, the total calculation time may not decrease. It depends.)\n"
   ]
  },
  {
   "cell_type": "markdown",
   "metadata": {},
   "source": [
    "\n",
    "Every library applies gates differently, *Qulacs puts the gates in a queue that will be executed after calling all the gates, while Qiskit applies the gates immediately and measures the qubit at the end.* From Sharon, @Damian do you know hwta she means?\n",
    "\n",
    "Another difference is that not all libraries measure with the same output. Qiskit can measure a 1 or a 0 (or the statevector); Qulacs measures a state vector. We have to keep these differences in mind while comparing these libraries with each other. Every library also differs in the gate set available, in the table below we present this gates:\n",
    "\n",
    "\n",
    "| Quantum simulators | Language | Can run on | Single-Qubit Gates | Multiqubit Gates|\n",
    "| :----------------- |:---------| :------------- | ------------------ | --------------- |\n",
    "| Qiskit | Python | CPU | X, Y, Z, H, S, S†, T, T†, Rx, Ry, Rz, U1, U2, U3 | CNOT, CZ, CY, SWAP, Toffoli, CSWAP \n",
    "| Qulacs | Python/C++ | CPU or GPU | I, X, Y, Z, H, S, S†, T, T†,sqrtX, sqrtX†, sqrtY, sqrtY†, P0, P1, RX, RY, RZ, U1, U2, U3 | CNOT, CZ, SWAP |\n"
   ]
  },
  {
   "cell_type": "markdown",
   "metadata": {
    "pycharm": {
     "name": "#%% md\n"
    }
   },
   "source": [
    "## 2. Basic gates and circuits <a id ='basiccircuits'></a>\n",
    "Before we start some becnhmarking lets look at how some of the main gates work. Lets start by importing all the neccesary libraries:\n"
   ]
  },
  {
   "cell_type": "code",
   "execution_count": 2,
   "metadata": {
    "pycharm": {
     "is_executing": false
    }
   },
   "outputs": [],
   "source": [
    "# the quantum libraries import \n",
    "from qiskit import QuantumCircuit, QuantumRegister, ClassicalRegister, execute, Aer, IBMQ\n",
    "from qulacs import Observable, QuantumState, QuantumCircuit as QC\n",
    "\n",
    "# to measure the time and memory it takes\n",
    "import time\n",
    "import tracemalloc\n",
    "import resource\n",
    "\n",
    "# imports to plot the graphs\n",
    "import matplotlib.pyplot as plt\n",
    "from mpl_toolkits.axes_grid1.inset_locator import mark_inset, inset_axes\n",
    "from qiskit.visualization import plot_histogram\n",
    "import numpy as np\n"
   ]
  },
  {
   "cell_type": "markdown",
   "metadata": {},
   "source": [
    "### 2.1. Hadamards <a id='hadamards'></a>\n",
    "\n",
    "As mentioned before,to build a random circuit we need a universal set consisting of single and two-qubit gates.\n",
    "The Hadamard gate and some sort of \"entangling\" gates (2 or more qubit control gates) are among the two most common gates used. Therefore, it is important to understand what these gates do and also benchmark them individually. \n",
    "To understand what the gates do, we will only use Qiskit. For the benchmarking we will use Qulacs.\n",
    "\n",
    "Let's start by first just setting up a circuit:  \n",
    "1. We define the quantum register of one qubit \n",
    "2. We define the classical register (to store the measurments of this qubit). \n",
    "3. We create (instanciate) a quantum circuit\n",
    "4. We measure the qubit\n",
    "\n",
    "This is followed by 1) the execution of the circuit, 2) the analysis of the results and 3) the plotting of the results\n"
   ]
  },
  {
   "cell_type": "code",
   "execution_count": 3,
   "metadata": {},
   "outputs": [
    {
     "data": {
      "image/png": "[encoded data removed]",
      "text/plain": [
       "<Figure size 504x360 with 1 Axes>"
      ]
     },
     "execution_count": 3,
     "metadata": {},
     "output_type": "execute_result"
    }
   ],
   "source": [
    "# defining the device \n",
    "q = QuantumRegister(1, 'q')\n",
    "c = ClassicalRegister(1, 'c')\n",
    "circuit = QuantumCircuit(q, c)\n",
    "\n",
    "# measure the circuit\n",
    "circuit.measure(q, c)\n",
    "\n",
    "# execute the circuit using the 'qasm_simulator' backend\n",
    "job = execute(circuit, Aer.get_backend('qasm_simulator')).result()\n",
    "\n",
    "# count how many times a given state (0 or 1) was measured\n",
    "counts = job.get_counts()\n",
    "\n",
    "# plot histogram\n",
    "plot_histogram(counts)\n",
    "\n"
   ]
  },
  {
   "cell_type": "markdown",
   "metadata": {},
   "source": [
    "Qubits are always initialize to the |0> state. Since we have done nothing to the qubit, we expect to always measure the |10> state. \n",
    "The histogram above shows that indeed this is true: in all runs (1024 by default), we measured |0> with a probability of 1.0. Below a scheme of how such a simple circuit looks like:\n"
   ]
  },
  {
   "cell_type": "code",
   "execution_count": 3,
   "metadata": {},
   "outputs": [
    {
     "data": {
      "image/png": "[encoded data removed]",
      "text/plain": [
       "<Figure size 187.706x144.48 with 1 Axes>"
      ]
     },
     "execution_count": 3,
     "metadata": {},
     "output_type": "execute_result"
    }
   ],
   "source": [
    "#Here how the circuit look like:\n",
    "circuit.draw(output='mpl')"
   ]
  },
  {
   "cell_type": "markdown",
   "metadata": {},
   "source": [
    "Now lets apply a Hadamard gate to the qubit before measuring:"
   ]
  },
  {
   "cell_type": "code",
   "execution_count": 4,
   "metadata": {
    "scrolled": true
   },
   "outputs": [
    {
     "data": {
      "image/png": "[encoded data removed]",
      "text/plain": [
       "<Figure size 504x360 with 1 Axes>"
      ]
     },
     "execution_count": 4,
     "metadata": {},
     "output_type": "execute_result"
    }
   ],
   "source": [
    "# defining the device \n",
    "circuit = ()\n",
    "q = QuantumRegister(1, 'q')\n",
    "c = ClassicalRegister(1, 'c')\n",
    "circuitH = QuantumCircuit(q, c)\n",
    "\n",
    "# A hadamard operation and measurement\n",
    "circuitH.h(q)\n",
    "circuitH.measure(q, c)\n",
    "\n",
    "# execute the circuit\n",
    "job = execute(circuitH, Aer.get_backend('qasm_simulator')).result()\n",
    "\n",
    "# count how many times a given state (0 or 1) was measured\n",
    "counts = job.get_counts()\n",
    "\n",
    "#plot histogram\n",
    "plot_histogram(counts)\n"
   ]
  },
  {
   "cell_type": "code",
   "execution_count": 5,
   "metadata": {},
   "outputs": [],
   "source": [
    "#To visualize how the circuit looks like uncomment the line below:\n",
    "#circuitH.draw(output='mpl')"
   ]
  },
  {
   "cell_type": "markdown",
   "metadata": {},
   "source": [
    "As seen above, the probability of measuring $|0>$ or $|1>$ is now more or less evenly distributed. The Hadamard gate take the qubit initialized at |0> and creates a superposition of the basis states. By doing so, it \"distributes\" the probability among the basis states. \n",
    "\n",
    "The Hadamard gate is a single qubit gate, so what happens if we apply it to a 2-qubit system?"
   ]
  },
  {
   "cell_type": "code",
   "execution_count": 4,
   "metadata": {},
   "outputs": [
    {
     "data": {
      "image/png": "[encoded data removed]",
      "text/plain": [
       "<Figure size 504x360 with 1 Axes>"
      ]
     },
     "execution_count": 4,
     "metadata": {},
     "output_type": "execute_result"
    }
   ],
   "source": [
    "# defining the device \n",
    "q = QuantumRegister(2, 'q')\n",
    "c = ClassicalRegister(2, 'c')\n",
    "circuitH2 = QuantumCircuit(q, c)\n",
    "\n",
    "# A hadamard operation on both qubits\n",
    "circuitH2.h(q)\n",
    "circuitH2.measure(q, c)\n",
    "\n",
    "# execute the circuita\n",
    "job = execute(circuitH2, Aer.get_backend('qasm_simulator')).result()\n",
    "\n",
    "# count how many times a given state was measured\n",
    "counts = job.get_counts()\n",
    "\n",
    "plot_histogram(counts)"
   ]
  },
  {
   "cell_type": "code",
   "execution_count": 9,
   "metadata": {},
   "outputs": [],
   "source": [
    "#To visualize how the circuit looks like uncomment the line below:\n",
    "#circuitH2.draw(output='mpl')"
   ]
  },
  {
   "cell_type": "markdown",
   "metadata": {},
   "source": [
    "The application of a Hadamard gate to each of the qubits (q0 and q1) \"distributes\" the probability of measuring them between |0> or |1>. This means that the total state of the system can be either |00>, |01>, |10>, |11>, all of these states are equally likely.\n",
    "\n",
    "### 2.2. CNOT <a id='cnot'></a>\n",
    "The CNOT (or controlled X) is a two qubit control gate and is highly use to create entangled states, also in Random circuits.\n",
    "It flips the second qubit (the target qubit) if and only if the first qubit (the control qubit) is |1>. Let's see some examples:"
   ]
  },
  {
   "cell_type": "code",
   "execution_count": 5,
   "metadata": {},
   "outputs": [
    {
     "data": {
      "image/png": "[encoded data removed]",
      "text/plain": [
       "<Figure size 504x360 with 1 Axes>"
      ]
     },
     "execution_count": 5,
     "metadata": {},
     "output_type": "execute_result"
    }
   ],
   "source": [
    "# defining the device \n",
    "q = QuantumRegister(2, 'q')\n",
    "c = ClassicalRegister(2, 'c')\n",
    "circuitCNOT = QuantumCircuit(q, c)\n",
    "\n",
    "# A cnot operation: q0 is the control qubit\n",
    "circuitCNOT.cnot(0,1)\n",
    "circuitCNOT.measure(q,c)\n",
    "\n",
    "# execute the circuit\n",
    "job = execute(circuitCNOT, Aer.get_backend('qasm_simulator')).result()\n",
    "\n",
    "# count how many times a given state was measured\n",
    "counts = job.get_counts()\n",
    "plot_histogram(counts)"
   ]
  },
  {
   "cell_type": "code",
   "execution_count": 6,
   "metadata": {},
   "outputs": [],
   "source": [
    "##To visualize how the circuit looks like uncomment the line below:\n",
    "#circuitCNOT.draw(output='mpl')"
   ]
  },
  {
   "cell_type": "markdown",
   "metadata": {},
   "source": [
    "Both q0 and q1 are initialized in state |0>, the initial quantum state of the system is |00>. After, the CNOT is applied using q0 as the control qubit and q1 as the target qubit. Since the control qubit is |0>, the CNOT has no effect on the target qubit. The state of the system does not change. When measured, we observe state |00> with probability 1.0.\n",
    "\n",
    "Let's now apply an X gate to q0 before the CNOT. The X gate basically \"flips\" the state of a qubit:\n"
   ]
  },
  {
   "cell_type": "code",
   "execution_count": 7,
   "metadata": {},
   "outputs": [
    {
     "data": {
      "image/png": "[encoded data removed]",
      "text/plain": [
       "<Figure size 504x360 with 1 Axes>"
      ]
     },
     "execution_count": 7,
     "metadata": {},
     "output_type": "execute_result"
    }
   ],
   "source": [
    "# defining the device \n",
    "q = QuantumRegister(2, 'q')\n",
    "c = ClassicalRegister(2, 'c')\n",
    "circuitXCNOT = QuantumCircuit(q, c)\n",
    "\n",
    "# An X gate on q0, followed by a CNOT operation with q0 as the control qubit\n",
    "circuitXCNOT.x(0)\n",
    "circuitXCNOT.cnot(0,1)\n",
    "circuitXCNOT.measure(q,c)\n",
    "\n",
    "# execute the circuit\n",
    "job = execute(circuitXCNOT, Aer.get_backend('qasm_simulator')).result()\n",
    "# count how many times a given state was measured\n",
    "counts = job.get_counts()\n",
    "plot_histogram(counts)\n"
   ]
  },
  {
   "cell_type": "markdown",
   "metadata": {},
   "source": [
    "After the X-gate q0 is not anymore in state |0> but |1>. Since q0 is |1>, the application of a CNOT to q0 and q1, flips q1. \n",
    "When measured, the state of the systems is |11> with 1.0 probability. \n",
    "\n",
    "Now lets apply a Hadamard gate on the control qubit (q0) followed by a CNOT gate:"
   ]
  },
  {
   "cell_type": "code",
   "execution_count": 17,
   "metadata": {},
   "outputs": [
    {
     "data": {
      "image/png": "[encoded data removed]",
      "text/plain": [
       "<Figure size 504x360 with 1 Axes>"
      ]
     },
     "execution_count": 17,
     "metadata": {},
     "output_type": "execute_result"
    }
   ],
   "source": [
    "# defining the device \n",
    "q = QuantumRegister(2, 'q')\n",
    "c = ClassicalRegister(2, 'c')\n",
    "circuitHCNOT = QuantumCircuit(q, c)\n",
    "\n",
    "# apply Hadamard only on q0\n",
    "circuitHCNOT.h(0)\n",
    "# apply CNOT q0 as the control, q1 as the target\n",
    "circuitHCNOT.cnot(0,1)\n",
    "#measure qubits\n",
    "circuitHCNOT.measure(q,c)\n",
    "\n",
    "\n",
    "# execute the circuit\n",
    "job = execute(circuitHCNOT, Aer.get_backend('qasm_simulator')).result()\n",
    "\n",
    "# count how many times a given state was measured\n",
    "counts = job.get_counts()\n",
    "\n",
    "plot_histogram(counts)\n",
    "\n"
   ]
  },
  {
   "cell_type": "code",
   "execution_count": 18,
   "metadata": {},
   "outputs": [],
   "source": [
    "#To visualize how the circuit looks like uncomment the line below:\n",
    "#circuitHCNOT.draw(output='mpl')"
   ]
  },
  {
   "cell_type": "markdown",
   "metadata": {},
   "source": [
    "The Hadamard gate sets q0 in state |0> with ~0.5 probability and in state |1> with ~0.5 probability.\n",
    "For the 0.5 probability where q0 is |0>, applying a CNOT does nothing on q1. In this case the quantum state of the system is |00>.\n",
    "For the 0.5 probability where q0 is |1>, applying a CNOT flips q1 to state |1>. In this case the quantum state of the system is |11>.\n",
    "\n",
    "There is an equal probability of meassuring |00> and |11>.\n",
    "\n",
    "The quantum state created by the above circuit can be written as \n",
    "\n",
    "$|\\psi> = 1/ \\sqrt(2)|00> + 1\\sqrt(2)|11>$ \n",
    "\n",
    "and is one of the so called \"Bell states\" (https://en.wikipedia.org/wiki/Bell_state). The Bell states are maximally entangled, that means that measuring one already \"defines\" the value of the other. If we measure q0 at state |0>, we know q1 is also in state |0>, if we measure q0 in |1> we know q1 is also in state |1>. They are somehow linked and this \"link\" is called entanglement.\n",
    "\n",
    "More formally an entangle state is a state of the system that can not be described by the individual qubits, only by the whole multi-qubit register (https://en.wikipedia.org/wiki/Quantum_entanglement). \n",
    "\n",
    "To create the other three Bell states of 2-qubits you need different \"starting\" states, for example start with q0 in |1> and q1 in |1> by initially applying an X-gate to both of them.\n",
    "\n",
    "\n",
    "We can use the same circuit as above to entangled n-qubits:"
   ]
  },
  {
   "cell_type": "code",
   "execution_count": 21,
   "metadata": {},
   "outputs": [
    {
     "data": {
      "image/png": "[encoded data removed]",
      "text/plain": [
       "<Figure size 504x360 with 1 Axes>"
      ]
     },
     "execution_count": 21,
     "metadata": {},
     "output_type": "execute_result"
    }
   ],
   "source": [
    "# number of qubits\n",
    "n = 4\n",
    "\n",
    "# defining the device \n",
    "q = QuantumRegister(n, 'q')\n",
    "c = ClassicalRegister(n, 'c')\n",
    "circuitXHCNOT = QuantumCircuit(q, c)\n",
    "\n",
    "circuitXHCNOT.h(0)\n",
    "# using q_0 always as contol qubit\n",
    "for i in range(1,n):\n",
    "    circuitXHCNOT.cnot(0,i)\n",
    "circuitXHCNOT.measure(q,c)\n",
    "\n",
    "# using q_i as control qubit\n",
    "#for i in range(0,n-1):\n",
    "#    circuitXHCNOT.cnot(i,i+1)\n",
    "#circuitXHCNOT.measure(q,c)\n",
    "\n",
    "# plot the histogram with probabilities of measuring a one or a zero.\n",
    "counts = execute(circuitXHCNOT, Aer.get_backend('qasm_simulator')).result().get_counts()\n",
    "plot_histogram(counts)"
   ]
  },
  {
   "cell_type": "markdown",
   "metadata": {},
   "source": [
    "Again, if we only measure qubit q0, we already know the state of the other n-qubits."
   ]
  },
  {
   "cell_type": "markdown",
   "metadata": {},
   "source": [
    "### 2.3. Benchmarking gates:  Hadamard, CNOT, T-gate <a id='timing'></a>\n",
    "We would like to understand how the simualtion time and memory allocation of these gates scales with the number of qubits. Based on our knowledge of the simualtions limitations (memory bound), we will chose a maximum of 67 qubits for qiskit and 20 for qulacs. Below we define a code that computes the average time a circuit of n-qubits takes to run. Every circuit is run 20 times.\n",
    "\n"
   ]
  },
  {
   "cell_type": "code",
   "execution_count": 8,
   "metadata": {},
   "outputs": [
    {
     "ename": "KeyboardInterrupt",
     "evalue": "",
     "output_type": "error",
     "traceback": [
      "\u001b[0;31m---------------------------------------------------------------------------\u001b[0m",
      "\u001b[0;31mKeyboardInterrupt\u001b[0m                         Traceback (most recent call last)",
      "\u001b[0;32m<ipython-input-8-af0453de2211>\u001b[0m in \u001b[0;36m<module>\u001b[0;34m\u001b[0m\n\u001b[1;32m     34\u001b[0m         \u001b[0mjob_sim\u001b[0m \u001b[0;34m=\u001b[0m \u001b[0mexecute\u001b[0m\u001b[0;34m(\u001b[0m\u001b[0mcirc\u001b[0m\u001b[0;34m,\u001b[0m \u001b[0mbackend\u001b[0m\u001b[0;34m)\u001b[0m\u001b[0;34m\u001b[0m\u001b[0;34m\u001b[0m\u001b[0m\n\u001b[1;32m     35\u001b[0m \u001b[0;34m\u001b[0m\u001b[0m\n\u001b[0;32m---> 36\u001b[0;31m         \u001b[0mresults\u001b[0m \u001b[0;34m=\u001b[0m \u001b[0mjob_sim\u001b[0m\u001b[0;34m.\u001b[0m\u001b[0mresult\u001b[0m\u001b[0;34m(\u001b[0m\u001b[0;34m)\u001b[0m\u001b[0;34m\u001b[0m\u001b[0;34m\u001b[0m\u001b[0m\n\u001b[0m\u001b[1;32m     37\u001b[0m \u001b[0;34m\u001b[0m\u001b[0m\n\u001b[1;32m     38\u001b[0m         \u001b[0mt_stop\u001b[0m \u001b[0;34m=\u001b[0m \u001b[0mtime\u001b[0m\u001b[0;34m.\u001b[0m\u001b[0mperf_counter\u001b[0m\u001b[0;34m(\u001b[0m\u001b[0;34m)\u001b[0m\u001b[0;34m\u001b[0m\u001b[0;34m\u001b[0m\u001b[0m\n",
      "\u001b[0;32m~/.local/lib/python3.8/site-packages/qiskit/providers/aer/aerjob.py\u001b[0m in \u001b[0;36m_wrapper\u001b[0;34m(self, *args, **kwargs)\u001b[0m\n\u001b[1;32m     39\u001b[0m         \u001b[0;32mif\u001b[0m \u001b[0mself\u001b[0m\u001b[0;34m.\u001b[0m\u001b[0m_future\u001b[0m \u001b[0;32mis\u001b[0m \u001b[0;32mNone\u001b[0m\u001b[0;34m:\u001b[0m\u001b[0;34m\u001b[0m\u001b[0;34m\u001b[0m\u001b[0m\n\u001b[1;32m     40\u001b[0m             \u001b[0;32mraise\u001b[0m \u001b[0mJobError\u001b[0m\u001b[0;34m(\u001b[0m\u001b[0;34m\"Job not submitted yet!. You have to .submit() first!\"\u001b[0m\u001b[0;34m)\u001b[0m\u001b[0;34m\u001b[0m\u001b[0;34m\u001b[0m\u001b[0m\n\u001b[0;32m---> 41\u001b[0;31m         \u001b[0;32mreturn\u001b[0m \u001b[0mfunc\u001b[0m\u001b[0;34m(\u001b[0m\u001b[0mself\u001b[0m\u001b[0;34m,\u001b[0m \u001b[0;34m*\u001b[0m\u001b[0margs\u001b[0m\u001b[0;34m,\u001b[0m \u001b[0;34m**\u001b[0m\u001b[0mkwargs\u001b[0m\u001b[0;34m)\u001b[0m\u001b[0;34m\u001b[0m\u001b[0;34m\u001b[0m\u001b[0m\n\u001b[0m\u001b[1;32m     42\u001b[0m     \u001b[0;32mreturn\u001b[0m \u001b[0m_wrapper\u001b[0m\u001b[0;34m\u001b[0m\u001b[0;34m\u001b[0m\u001b[0m\n\u001b[1;32m     43\u001b[0m \u001b[0;34m\u001b[0m\u001b[0m\n",
      "\u001b[0;32m~/.local/lib/python3.8/site-packages/qiskit/providers/aer/aerjob.py\u001b[0m in \u001b[0;36mresult\u001b[0;34m(self, timeout)\u001b[0m\n\u001b[1;32m     92\u001b[0m             \u001b[0mconcurrent\u001b[0m\u001b[0;34m.\u001b[0m\u001b[0mfutures\u001b[0m\u001b[0;34m.\u001b[0m\u001b[0mCancelledError\u001b[0m\u001b[0;34m:\u001b[0m \u001b[0;32mif\u001b[0m \u001b[0mjob\u001b[0m \u001b[0mcancelled\u001b[0m \u001b[0mbefore\u001b[0m \u001b[0mcompleted\u001b[0m\u001b[0;34m.\u001b[0m\u001b[0;34m\u001b[0m\u001b[0;34m\u001b[0m\u001b[0m\n\u001b[1;32m     93\u001b[0m         \"\"\"\n\u001b[0;32m---> 94\u001b[0;31m         \u001b[0;32mreturn\u001b[0m \u001b[0mself\u001b[0m\u001b[0;34m.\u001b[0m\u001b[0m_future\u001b[0m\u001b[0;34m.\u001b[0m\u001b[0mresult\u001b[0m\u001b[0;34m(\u001b[0m\u001b[0mtimeout\u001b[0m\u001b[0;34m=\u001b[0m\u001b[0mtimeout\u001b[0m\u001b[0;34m)\u001b[0m\u001b[0;34m\u001b[0m\u001b[0;34m\u001b[0m\u001b[0m\n\u001b[0m\u001b[1;32m     95\u001b[0m \u001b[0;34m\u001b[0m\u001b[0m\n\u001b[1;32m     96\u001b[0m     \u001b[0;34m@\u001b[0m\u001b[0mrequires_submit\u001b[0m\u001b[0;34m\u001b[0m\u001b[0;34m\u001b[0m\u001b[0m\n",
      "\u001b[0;32m/usr/lib64/python3.8/concurrent/futures/_base.py\u001b[0m in \u001b[0;36mresult\u001b[0;34m(self, timeout)\u001b[0m\n\u001b[1;32m    432\u001b[0m                 \u001b[0;32mreturn\u001b[0m \u001b[0mself\u001b[0m\u001b[0;34m.\u001b[0m\u001b[0m__get_result\u001b[0m\u001b[0;34m(\u001b[0m\u001b[0;34m)\u001b[0m\u001b[0;34m\u001b[0m\u001b[0;34m\u001b[0m\u001b[0m\n\u001b[1;32m    433\u001b[0m \u001b[0;34m\u001b[0m\u001b[0m\n\u001b[0;32m--> 434\u001b[0;31m             \u001b[0mself\u001b[0m\u001b[0;34m.\u001b[0m\u001b[0m_condition\u001b[0m\u001b[0;34m.\u001b[0m\u001b[0mwait\u001b[0m\u001b[0;34m(\u001b[0m\u001b[0mtimeout\u001b[0m\u001b[0;34m)\u001b[0m\u001b[0;34m\u001b[0m\u001b[0;34m\u001b[0m\u001b[0m\n\u001b[0m\u001b[1;32m    435\u001b[0m \u001b[0;34m\u001b[0m\u001b[0m\n\u001b[1;32m    436\u001b[0m             \u001b[0;32mif\u001b[0m \u001b[0mself\u001b[0m\u001b[0;34m.\u001b[0m\u001b[0m_state\u001b[0m \u001b[0;32min\u001b[0m \u001b[0;34m[\u001b[0m\u001b[0mCANCELLED\u001b[0m\u001b[0;34m,\u001b[0m \u001b[0mCANCELLED_AND_NOTIFIED\u001b[0m\u001b[0;34m]\u001b[0m\u001b[0;34m:\u001b[0m\u001b[0;34m\u001b[0m\u001b[0;34m\u001b[0m\u001b[0m\n",
      "\u001b[0;32m/usr/lib64/python3.8/threading.py\u001b[0m in \u001b[0;36mwait\u001b[0;34m(self, timeout)\u001b[0m\n\u001b[1;32m    300\u001b[0m         \u001b[0;32mtry\u001b[0m\u001b[0;34m:\u001b[0m    \u001b[0;31m# restore state no matter what (e.g., KeyboardInterrupt)\u001b[0m\u001b[0;34m\u001b[0m\u001b[0;34m\u001b[0m\u001b[0m\n\u001b[1;32m    301\u001b[0m             \u001b[0;32mif\u001b[0m \u001b[0mtimeout\u001b[0m \u001b[0;32mis\u001b[0m \u001b[0;32mNone\u001b[0m\u001b[0;34m:\u001b[0m\u001b[0;34m\u001b[0m\u001b[0;34m\u001b[0m\u001b[0m\n\u001b[0;32m--> 302\u001b[0;31m                 \u001b[0mwaiter\u001b[0m\u001b[0;34m.\u001b[0m\u001b[0macquire\u001b[0m\u001b[0;34m(\u001b[0m\u001b[0;34m)\u001b[0m\u001b[0;34m\u001b[0m\u001b[0;34m\u001b[0m\u001b[0m\n\u001b[0m\u001b[1;32m    303\u001b[0m                 \u001b[0mgotit\u001b[0m \u001b[0;34m=\u001b[0m \u001b[0;32mTrue\u001b[0m\u001b[0;34m\u001b[0m\u001b[0;34m\u001b[0m\u001b[0m\n\u001b[1;32m    304\u001b[0m             \u001b[0;32melse\u001b[0m\u001b[0;34m:\u001b[0m\u001b[0;34m\u001b[0m\u001b[0;34m\u001b[0m\u001b[0m\n",
      "\u001b[0;31mKeyboardInterrupt\u001b[0m: "
     ]
    }
   ],
   "source": [
    "# QISKIT Hadamard\n",
    "\n",
    "# Amount of qubits we are going to simulate\n",
    "qisQubitsH = 40\n",
    "\n",
    "# Arrays to store results for running time and memory allocation\n",
    "qisHadamards = np.array([], dtype=float)\n",
    "qisHadamardsmem = np.array([], dtype=float)\n",
    "\n",
    "# number of times to run benchmark \n",
    "times = 20\n",
    "\n",
    "for p in range(2, qisQubitsH):\n",
    "    tt_tot = 0.0\n",
    "    rss_tot = 0.0\n",
    "\n",
    "    for t in range(times):\n",
    "        \n",
    "        tracemalloc.start()\n",
    "        t_start = time.perf_counter()\n",
    "        \n",
    "        # defining the device \n",
    "        q = QuantumRegister(p, 'q')\n",
    "        c = ClassicalRegister(p, 'c')\n",
    "        circ = QuantumCircuit(q, c)\n",
    "       \n",
    "        # Apply Hadamard gate on every qubit\n",
    "        circ.h(q)\n",
    "        # Measure all qubits\n",
    "        circ.measure(q, c)\n",
    "\n",
    "        # the default backend (only one measurement, returns the state vector)\n",
    "        backend = Aer.get_backend('statevector_simulator')\n",
    "        job_sim = execute(circ, backend)\n",
    "\n",
    "        results = job_sim.result()\n",
    "\n",
    "        t_stop = time.perf_counter()\n",
    "        t_tot = t_stop - t_start\n",
    "        tt_tot += t_tot\n",
    "      \n",
    "        snapshot = tracemalloc.take_snapshot()\n",
    "        top_stats = snapshot.statistics('lineno')\n",
    "        tracemalloc.stop()\n",
    "        max_rss = resource.getrusage(resource.RUSAGE_SELF).ru_maxrss\n",
    "        rss_tot += max_rss\n",
    "        \n",
    "        del q\n",
    "        del c\n",
    "        del circ\n",
    "        del job_sim\n",
    "        \n",
    "    rss_avg = rss_tot / times\n",
    "    qisHadamardsmem = np.append(qisHadamardsmem, [rss_avg])\n",
    "\n",
    "    t_avg = tt_tot / times\n",
    "    qisHadamards = np.append(qisHadamards, [t_avg])\n",
    "    \n",
    "print(qisHadamards)\n",
    "print (qismem)\n"
   ]
  },
  {
   "cell_type": "markdown",
   "metadata": {},
   "source": [
    "The code for the timing Hadamards in Qulacs:"
   ]
  },
  {
   "cell_type": "code",
   "execution_count": 30,
   "metadata": {},
   "outputs": [
    {
     "name": "stdout",
     "output_type": "stream",
     "text": [
      "[1.59175019e-05 1.19805918e-05 1.11348985e-05 1.22851925e-05\n",
      " 1.60546915e-05 1.51910936e-05 2.06058030e-05 2.43933056e-05\n",
      " 2.31813057e-05 3.53966025e-05 5.99007064e-05 1.46058697e-04\n",
      " 1.72387197e-04 2.76548916e-04 5.42866805e-04 3.42191791e-03\n",
      " 3.29099672e-03 6.89021701e-03]\n",
      "[ 7902020. 10402548. 12903076. 15403604. 17904132. 20404660. 22905188.\n",
      " 25405716. 27906244. 30406772. 32907300. 35407828. 37908356. 40408884.\n",
      " 42909412. 45409940. 47910468. 50410996.]\n"
     ]
    }
   ],
   "source": [
    "#QULACS Hadamard\n",
    "\n",
    "# Amount of qubits we are going to simulate\n",
    "qulQubitsH = 20\n",
    "times = 10\n",
    "\n",
    "# Arrays to store results for running time and memory allocation\n",
    "qulHadamards = np.array([], dtype=float)\n",
    "qulHadamardsmem = np.array([], dtype=float)\n",
    "\n",
    "for p in range(2, qulQubitsH):\n",
    "    tt_tot = 0.0\n",
    "    for t in range(times):\n",
    "        tracemalloc.start()\n",
    "        t_start = time.perf_counter()\n",
    "       \n",
    "        state = QuantumState(p)\n",
    "        state.set_zero_state()\n",
    "\n",
    "        circuit = QC(p)\n",
    "\n",
    "\n",
    "        for i in range(p):\n",
    "            circuit.add_H_gate(i)\n",
    "\n",
    "        circuit.update_quantum_state(state)\n",
    "        output = state\n",
    "        t_stop = time.perf_counter()\n",
    "        t_tot = t_stop - t_start\n",
    "        tt_tot += t_tot\n",
    "        snapshot = tracemalloc.take_snapshot()\n",
    "        top_stats = snapshot.statistics('lineno')\n",
    "        tracemalloc.stop()\n",
    "        max_rss = resource.getrusage(resource.RUSAGE_SELF).ru_maxrss\n",
    "        rss_tot += max_rss\n",
    "        del circuit\n",
    "        del state\n",
    "    \n",
    "    rss_avg = rss_tot / times\n",
    "    qulHadamardsmem = np.append(qulHadamardsmem, [rss_avg])\n",
    "          \n",
    "    t_avg = tt_tot / times\n",
    "    qulHadamards = np.append(qulHadamards, [t_avg])\n",
    "\n",
    "print(qulHadamards)\n",
    "print(qulHadamardsmem)"
   ]
  },
  {
   "cell_type": "markdown",
   "metadata": {
    "pycharm": {
     "is_executing": false,
     "name": "#%% md\n"
    }
   },
   "source": [
    "Plotting..."
   ]
  },
  {
   "cell_type": "code",
   "execution_count": null,
   "metadata": {
    "pycharm": {
     "is_executing": false,
     "name": "#%%\n"
    },
    "scrolled": false
   },
   "outputs": [],
   "source": [
    "# Some range adjustments\n",
    "y1 = []\n",
    "if qisQubitsH < qulQubitsH: \n",
    "    for i in range(qulQubitsH - qisQubitsH): \n",
    "        qisHadamards = np.append(qisHadamards, [np.nan])\n",
    "        qisHadamardssmem = np.append(qisHadamardsmem, [np.nan])\n",
    "    y1 = range(2, qulQubitsH)\n",
    "elif qisQubitsH > qulQubitsH:\n",
    "    for i in range(qisQubitsH - qulQubitsH): \n",
    "        qulHadamards = np.append(qulHadamards, [np.nan])\n",
    "        qulHadamardssmem = np.append(qulHadamardsmem, [np.nan])\n",
    "        \n",
    "    y1 = range(2, qisQubitsH)\n",
    "else:\n",
    "    y1 = range(2, qisQubitsH)\n",
    "\n",
    "\n",
    "# TIME\n",
    "fig, ax = plt.subplots(1, 1, figsize=(5, 5), dpi=150) \n",
    "ax.plot(y1, qisHadamards, 'c', label='Qiskit', linewidth=2, marker='^', markersize=4)\n",
    "ax.plot(y1, qulHadamards, 'm', label='Qulacs', linewidth=2, marker='x', markersize=4)\n",
    "plt.xticks(np.arange(2, qisQubitsH, step=4))\n",
    "plt.title('Hadamards', fontsize=14)\n",
    "\n",
    "plt.xlabel('$n$ qubits', fontsize=14)\n",
    "plt.ylabel('time in seconds', fontsize=14)\n",
    "ax.legend()\n",
    "\n",
    "# zoomed in part\n",
    "#axins = inset_axes(ax, width=\"40%\", height=1., loc='center right', borderpad=2)\n",
    "#mark_inset(ax, axins, loc1=3, loc2=4, fc='none', ec='0.5')\n",
    "\n",
    "#axins.plot(y1, qisHadamards, 'c', label='Qiskit', linewidth=2, marker='^', markersize=4)\n",
    "#axins.plot(y1, qulHadamards, 'm', label='Qulacs', linewidth=2, marker='x', markersize=4)\n",
    "\n",
    "#ax.set_xlim(2, 10)\n",
    "#ax.set_ylim(-0.01, 0.1)\n",
    "#plt.xticks(np.arange(2, 66, step=10))\n",
    "\n",
    "# show the whole graph\n",
    "plt.show()"
   ]
  },
  {
   "cell_type": "markdown",
   "metadata": {},
   "source": [
    "The Hadamard is a single qubit gate and is part of the Cliford gates.\n",
    "Therefore, we expect the computational time to increase polynomial with the number of qubits if the the Gottesman-Knill theorem is implemented. Qiskit makes use of the Gottesman-Knill theorem to simulate the Clifford gates efficiently and therefore we see a linear increase in simualtion time with number of qubits. Qulacs apparently not. In Qulacs we see an exponential grow in time after about 18 qubits.\n",
    "\n",
    "\n",
    "TODO:\n",
    "\n",
    "- Why does Qulacs performs better before the exponential regime? (Qulacs running on CPU) Memory allocation?\n",
    "- Why are there some peaks (specially in Qiskit)? They do get reduced with the amount of runs, but seems weird and inconsistent \n"
   ]
  },
  {
   "cell_type": "code",
   "execution_count": 17,
   "metadata": {},
   "outputs": [
    {
     "data": {
      "image/png": "[encoded data removed]",
      "text/plain": [
       "<Figure size 432x288 with 1 Axes>"
      ]
     },
     "metadata": {
      "needs_background": "light"
     },
     "output_type": "display_data"
    }
   ],
   "source": [
    "# memory allocation\n",
    "plt.plot(y1, qisHadamardsmem, 'c', label='Qiskit', linewidth=2, marker='^', markersize=4)\n",
    "plt.plot(y1, qulHadamardsmem, 'm', label='Qiskit', linewidth=2, marker='x', markersize=4)\n",
    "plt.title('Hadamards', fontsize=14)\n",
    "\n",
    "plt.xlabel('$n$ qubits', fontsize=14)\n",
    "plt.ylabel('mem allocation', fontsize=14)\n",
    "plt.show()"
   ]
  },
  {
   "cell_type": "markdown",
   "metadata": {},
   "source": [
    "\n",
    "Lets now take a look at the **CNOT**"
   ]
  },
  {
   "cell_type": "code",
   "execution_count": null,
   "metadata": {},
   "outputs": [],
   "source": [
    "#QISKIT CNOT\n",
    "\n",
    "# Amount of qubits we are going to simulate\n",
    "qisQubitsCNOT = 67\n",
    "times = 20\n",
    "tt_tot_array = np.array([], dtype=float)\n",
    "# Array for the results to plot them afterwards\n",
    "qisCNOT = np.array([], dtype=float)\n",
    "qisCNOTmem = np.array([], dtype=float)\n",
    "for p in range(2, qisQubitsCNOT):\n",
    "    tt_tot = 0.0\n",
    "    rss_tot = 0.0\n",
    "    \n",
    "    # defining the device \n",
    "    q = QuantumRegister(p, 'q')\n",
    "    c = ClassicalRegister(p, 'c')\n",
    "    circ = QuantumCircuit(q, c)\n",
    "    circ.h(0)\n",
    "    for t in range(times):\n",
    "        tracemalloc.start()\n",
    "        t_start = time.perf_counter()\n",
    "        \n",
    "        for i in (range(1, p)): \n",
    "            circ.cnot(0, i)\n",
    "                    \n",
    "        circ.measure(q, c)\n",
    "\n",
    "        # the default backend\n",
    "        backend = Aer.get_backend('statevector_simulator')\n",
    "        job_sim = execute(circ, backend)\n",
    "\n",
    "        results = job_sim.result()\n",
    "\n",
    "              \n",
    "        snapshot = tracemalloc.take_snapshot()\n",
    "        top_stats = snapshot.statistics('lineno')\n",
    "        tracemalloc.stop()\n",
    "        max_rss = resource.getrusage(resource.RUSAGE_SELF).ru_maxrss\n",
    "        rss_tot += max_rss\n",
    "        \n",
    "        t_stop = time.perf_counter()\n",
    "        t_tot = t_stop - t_start\n",
    "\n",
    "        tt_tot += t_tot\n",
    "        # get some error?\n",
    "        #tt_tot_array = np.append(tt_tot_array, tt_tot)\n",
    "        \n",
    "    rss_avg = rss_tot / times\n",
    "    qisCNOTsmem = np.append(qisCNOTmem, [rss_avg])\n",
    "        \n",
    "    t_avg = tt_tot / times\n",
    "    #t_error = np.sum(tt_tot_array)/times\n",
    "    qisCNOT= np.append(qisCNOT, [t_avg])\n",
    "\n",
    "print(qisCNOT)"
   ]
  },
  {
   "cell_type": "code",
   "execution_count": null,
   "metadata": {},
   "outputs": [],
   "source": [
    "#QULACS CNOT\n",
    "# Amount of qubits we are going to simulate\n",
    "qulQubitsH = 22\n",
    "times = 20\n",
    "\n",
    "# Array for the results to plot them afterwards\n",
    "qulCNOT = np.array([], dtype=float)\n",
    "qulCNOTmem = np.array([], dtype=float)\n",
    "for p in range(2, qulQubitsH):\n",
    "    tt_tot = 0.0\n",
    "    for t in range(times):\n",
    "       \n",
    "        tracemalloc.start()\n",
    "        state = QuantumState(p)\n",
    "        state.set_zero_state()\n",
    "\n",
    "        circuit = QC(p)\n",
    "        t_start = time.perf_counter()\n",
    "\n",
    "        for i in range(p):\n",
    "            circuit.add_CNOT_gate(0,i)\n",
    "\n",
    "        circuit.update_quantum_state(state)\n",
    "        output = state\n",
    "        \n",
    "        circuit.update_quantum_state(state)\n",
    "        output = state\n",
    "        t_stop = time.perf_counter()\n",
    "        t_tot = t_stop - t_start\n",
    "        tt_tot += t_tot\n",
    "        snapshot = tracemalloc.take_snapshot()\n",
    "        top_stats = snapshot.statistics('lineno')\n",
    "        tracemalloc.stop()\n",
    "        max_rss = resource.getrusage(resource.RUSAGE_SELF).ru_maxrss\n",
    "        rss_tot += max_rss\n",
    "        del circuit\n",
    "        del state\n",
    "    \n",
    "    rss_avg = rss_tot / times\n",
    "    qulCNOTmem = np.append(qulCNOTmem, [rss_avg])\n",
    "        \n",
    "    t_avg = tt_tot / times\n",
    "    qulCNOT = np.append(qulCNOT, [t_avg])\n",
    "\n",
    "print(qulCNOT)"
   ]
  },
  {
   "cell_type": "markdown",
   "metadata": {},
   "source": [
    "Plotting ..."
   ]
  },
  {
   "cell_type": "code",
   "execution_count": null,
   "metadata": {},
   "outputs": [],
   "source": [
    "# Some range adjustments\n",
    "y1 = []\n",
    "if qisQubitsH < qulQubitsH: \n",
    "    for i in range(qulQubitsH - qisQubitsH): \n",
    "        qisCNOT = np.append(qisCNOT, [np.nan])\n",
    "        qisCNOTsmem = np.append(qisCNOTmem, [np.nan])\n",
    "    y1 = range(2, qulQubitsH)\n",
    "elif qisQubitsH > qulQubitsH:\n",
    "    for i in range(qisQubitsH - qulQubitsH): \n",
    "        qulCNOT = np.append(qulCNOT, [np.nan])\n",
    "        qulCNOTmem = np.append(qulCNOTmem, [np.nan])\n",
    "        \n",
    "    y1 = range(2, qisQubitsH)\n",
    "else:\n",
    "    y1 = range(2, qisQubitsH)\n",
    "\n",
    "# TIME\n",
    "fig, ax = plt.subplots(1, 1, figsize=(5, 5), dpi=150) \n",
    "\n",
    "# the whole graph\n",
    "ax.plot(y1, qisCNOT, 'c', label='Qiskit', linewidth=2, marker='^', markersize=4)\n",
    "ax.plot(y1, qulHadamards, 'm', label='Qulacs', linewidth=2, marker='x', markersize=4)\n",
    "#plt.xticks(np.arange(2, qisQubitsCNOT, step=4))\n",
    "plt.title('CNOT', fontsize=14)\n",
    "\n",
    "plt.xlabel('$n$ qubits', fontsize=14)\n",
    "plt.ylabel('time in seconds', fontsize=14)\n",
    "ax.legend()\n",
    "\n",
    "# zoomed in part\n",
    "#axins = inset_axes(ax, width=\"40%\", height=1., loc='center right', borderpad=2)\n",
    "#mark_inset(ax, axins, loc1=3, loc2=4, fc='none', ec='0.5')\n",
    "\n",
    "#axins.plot(y1, qisCNOT, 'c', label='Qiskit', linewidth=2, marker='^', markersize=4)\n",
    "#axins.plot(y1, qulHadamards, 'm', label='Qulacs', linewidth=2, marker='x', markersize=4)\n",
    "\n",
    "#axins.set_xlim(2, qisQubitsCNOT)\n",
    "#axins.set_ylim(-0.01, 0.1)\n",
    "#plt.xticks(np.arange(2, qisQubitsCNOT, step=5))\n",
    "\n",
    "# show the whole graph\n",
    "plt.show()"
   ]
  },
  {
   "cell_type": "markdown",
   "metadata": {},
   "source": [
    "Qiskit timing seems to increase linearly (the CNOT is also a Clifford gate)."
   ]
  },
  {
   "cell_type": "code",
   "execution_count": null,
   "metadata": {},
   "outputs": [],
   "source": [
    "# memory allocation\n",
    "plt.plot(y1, qisCNOTmem, 'c', label='Qiskit', linewidth=2, marker='^', markersize=4)\n",
    "plt.plot(y1, qulCNOTmem, 'm', label='Qiskit', linewidth=2, marker='x', markersize=4)\n",
    "plt.title('CNOT', fontsize=14)\n",
    "\n",
    "plt.xlabel('$n$ qubits', fontsize=14)\n",
    "plt.ylabel('mem allocation', fontsize=14)\n",
    "plt.show()"
   ]
  },
  {
   "cell_type": "markdown",
   "metadata": {},
   "source": [
    "Finally, lets analyze a non-Clifford gate to see the difference: the **T-gate**. "
   ]
  },
  {
   "cell_type": "code",
   "execution_count": 4,
   "metadata": {},
   "outputs": [
    {
     "name": "stdout",
     "output_type": "stream",
     "text": [
      "[0.00665774 0.00549803 0.00519438 0.00602017 0.00536124 0.00553259\n",
      " 0.00592104 0.00591927 0.00608827 0.00621458 0.00697709 0.00724322\n",
      " 0.00724673 0.00800024 0.008365   0.00936633 0.01210305 0.01499436]\n"
     ]
    }
   ],
   "source": [
    "# QISKIT T-gate\n",
    "# Amount of qubits we are going to simulate\n",
    "qisQubitsT = 20\n",
    "times = 1\n",
    "\n",
    "# Array for the results to plot them afterwards\n",
    "qisT = np.array([], dtype=float)\n",
    "qisTmem = np.array([], dtype=float)\n",
    "for p in range(2, qisQubitsT):\n",
    "    tt_tot = 0.0\n",
    "    rss_tot = 0.0\n",
    "    for t in range(times):\n",
    "        tracemalloc.start()\n",
    "        t_start = time.perf_counter()\n",
    "\n",
    "        # defining the device \n",
    "        q = QuantumRegister(p, 'q')\n",
    "        c = ClassicalRegister(p, 'c')\n",
    "        circT = QuantumCircuit(q, c)\n",
    "        circT.t(q)\n",
    "                            \n",
    "        circT.measure(q, c)\n",
    "\n",
    "        # the default backend\n",
    "        backend = Aer.get_backend('qasm_simulator')\n",
    "        job_sim = execute(circT, backend)\n",
    "\n",
    "        results = job_sim.result()\n",
    "        snapshot = tracemalloc.take_snapshot()\n",
    "        top_stats = snapshot.statistics('lineno')\n",
    "        tracemalloc.stop()\n",
    "        max_rss = resource.getrusage(resource.RUSAGE_SELF).ru_maxrss\n",
    "        rss_tot += max_rss\n",
    "\n",
    "        t_stop = time.perf_counter()\n",
    "        t_tot = t_stop - t_start\n",
    "\n",
    "        tt_tot += t_tot\n",
    "    \n",
    "    rss_avg = rss_tot / times \n",
    "    qisTsmem = np.append(qisCNOTmem, [rss_avg])\n",
    "\n",
    "    t_avg = tt_tot / times\n",
    "    qisT= np.append(qisT, [t_avg])\n",
    "\n",
    "print(qisT)"
   ]
  },
  {
   "cell_type": "code",
   "execution_count": 12,
   "metadata": {},
   "outputs": [
    {
     "name": "stdout",
     "output_type": "stream",
     "text": [
      "[2.06760014e-05 1.88619888e-05 2.08819984e-05 2.28209974e-05\n",
      " 2.50430021e-05 3.31330084e-05 4.83530021e-05 4.60789888e-05]\n"
     ]
    }
   ],
   "source": [
    "#QULACS T-gate\n",
    "# Amount of qubits we are going to simulate\n",
    "qulQubitsT = 10\n",
    "times = 1\n",
    "# Array for the results to plot them afterwards\n",
    "qulT = np.array([], dtype=float)\n",
    "qulTmem = np.array([], dtype=float)\n",
    "\n",
    "for p in range(2, qulQubitsT):\n",
    "    tt_tot = 0.0\n",
    "    rss_tot = 0.0\n",
    "    for t in range(times):\n",
    "       \n",
    "\n",
    "        state = QuantumState(p)\n",
    "        state.set_zero_state()\n",
    "\n",
    "        circuit = QC(p)\n",
    "        t_start = time.perf_counter()\n",
    "        \n",
    "        for i in range(p):\n",
    "            # check\n",
    "            circuit.add_T_gate(i)\n",
    "\n",
    "        circuit.update_quantum_state(state)\n",
    "        output = state\n",
    "        snapshot = tracemalloc.take_snapshot()\n",
    "        top_stats = snapshot.statistics('lineno')\n",
    "        tracemalloc.stop()\n",
    "        max_rss = resource.getrusage(resource.RUSAGE_SELF).ru_maxrss\n",
    "        rss_tot += max_rss\n",
    "        \n",
    "        del circuit\n",
    "        del state\n",
    "\n",
    "        t_stop = time.perf_counter()\n",
    "        t_tot = t_stop - t_start\n",
    "\n",
    "        tt_tot += t_tot\n",
    "        \n",
    "    rss_avg = rss_tot / times \n",
    "    qulTsmem = np.append(qulTmem, [rss_avg])\n",
    "\n",
    "    t_avg = tt_tot / times\n",
    "    qulT = np.append(qulT, [t_avg])\n",
    "\n",
    "print(qulT)\n"
   ]
  },
  {
   "cell_type": "code",
   "execution_count": 11,
   "metadata": {},
   "outputs": [
    {
     "data": {
      "image/png": "[encoded data removed]",
      "text/plain": [
       "<Figure size 750x750 with 1 Axes>"
      ]
     },
     "metadata": {
      "needs_background": "light"
     },
     "output_type": "display_data"
    }
   ],
   "source": [
    "y1 = []\n",
    "if qisQubitsT <= qulQubitsT: \n",
    "    for i in range(qulQubitsT - qisQubitsT): \n",
    "        qisT = np.array([], dtype=float)\n",
    "        qisTmem = np.array([], dtype=float)\n",
    "    y1 = range(2, qulQubitsT)\n",
    "elif qisQubitsT > qulQubitsT:\n",
    "    for i in range(qisQubitsT - qulQubitsT): \n",
    "        qulT = np.append(qulT, [np.nan])\n",
    "        qulTmem = np.append(qulT, [np.nan])\n",
    "    y1 = range(2, qisQubitsT)\n",
    "else:\n",
    "    y1 = range(2, qisQubitsT)\n",
    "\n",
    "# TIME\n",
    "fig, ax = plt.subplots(1, 1, figsize=(5, 5), dpi=150) \n",
    "ax.plot(y1, qisT, 'c', label='Qiskit', linewidth=2, marker='^', markersize=4)\n",
    "ax.plot(y1, qulT, 'm', label='Qulacs', linewidth=2, marker='x', markersize=4)\n",
    "#plt.xticks(np.arange(2, qisQubitsCNOT, step=4))\n",
    "plt.title('T-gate', fontsize=14)\n",
    "\n",
    "plt.xlabel('$n$ qubits', fontsize=14)\n",
    "plt.ylabel('time in seconds', fontsize=14)\n",
    "ax.legend()\n",
    "\n",
    "# zoomed in part\n",
    "#axins = inset_axes(ax, width=\"40%\", height=1., loc='center right', borderpad=2)\n",
    "#mark_inset(ax, axins, loc1=3, loc2=4, fc='none', ec='0.5')\n",
    "\n",
    "#axins.plot(y1, qisCNOT, 'c', label='Qiskit', linewidth=2, marker='^', markersize=4)\n",
    "#axins.plot(y1, qulHadamards, 'm', label='Qulacs', linewidth=2, marker='x', markersize=4)\n",
    "\n",
    "#axins.set_xlim(2, qisQubitsCNOT)\n",
    "#axins.set_ylim(-0.01, 0.1)\n",
    "#plt.xticks(np.arange(2, qisQubitsCNOT, step=5))\n",
    "\n",
    "# show the whole graph\n",
    "plt.show()"
   ]
  },
  {
   "cell_type": "markdown",
   "metadata": {},
   "source": [
    "Here we can see, that now also for Qiskit the T gate scales exponentially with the number of qubits."
   ]
  },
  {
   "cell_type": "markdown",
   "metadata": {},
   "source": [
    "## 3 Random circuits\n",
    "### 3.1. Implementation 1 <a id='RC1time'></a>\n",
    "\n",
    "A random circuit contains  a  random  sequence  of  gates from a given set. Here we will follow the algorithm from https://arxiv.org/abs/1608.00263 to generate the random circuits. The topology is fixed (a linear array or a grid depending on 1D or 2D) for a given depth and number of qubits, but it randomises the sequence of single qubit gates. The total number of gates goes like $O(n*d), d=$depth of circuit and the ratio between single and control gates is fixed to 1.2 $\\pm$ 0.2\n",
    "\n",
    "The general algorithm goes as follow:\n",
    "- Start with a cycle of Hadmards \n",
    "- Follow by some controlled-phase(CZ) gates \n",
    "- Folow by single-qubit gates chosen at random from the set {X1/2,Y1/2,T} at all qubits that are not occupied by the CZ gates at the same cycle (subject to the restrictions below).  \n",
    "Single-qubit gates are placed subject to the following rules:\n",
    "- Place a gate at qubit q only if this qubit is occupied by a CZ gate in the previous cycle\n",
    "- Place  a  T  gate  at  qubit q if there are no single-qubit gates in the previous cycles at qubit q except for the initial cycle of Hadamard gates.\n",
    "- Any  gate  at  qubit q should be different from the gate at qubit q in the previous cycle\n",
    "\n",
    "As a brief background, if we think of the probability amplitudes of a single qubit as a vector in a 3D sphere, all single qubit gates modify the vector by rotating it in the \"Bloch\" sphere. The X gate rotates it 180 degrees. The T-gate is a single qubit 45 degree shift and the X1/2(Y1/2) are a $\\pi/2= 90^\\circ$ rotation around the X(Y) axis in the Bloch sphere. The Controlled Z (CZ) is a two-qubit gate and is the controlled version of the Z gate (same as CNOT being the controlled version of the X-gate). This gate applies a Z operation (change of sign in the |1> state) on the target qubit when the control is |1>. It can also be described as a conditional operation that performs a sign shift only when the two qubit state is |11>.\n",
    "\n"
   ]
  },
  {
   "cell_type": "code",
   "execution_count": 13,
   "metadata": {},
   "outputs": [
    {
     "name": "stdout",
     "output_type": "stream",
     "text": [
      "[False False False False False False False False False False False False]\n",
      "8\n",
      "4.0\n"
     ]
    },
    {
     "data": {
      "text/plain": [
       "<qiskit.circuit.instructionset.InstructionSet at 0x7f2975b2ec10>"
      ]
     },
     "execution_count": 13,
     "metadata": {},
     "output_type": "execute_result"
    }
   ],
   "source": [
    "# amount of qubits we are going to run\n",
    "depth = 1\n",
    "width = 12\n",
    "qisQubitsRC1 = 27\n",
    "qulQubitsRC1 = 28\n",
    "\n",
    "qisRC1t = np.array([], dtype=float)\n",
    "qulRC1t = np.array([], dtype=float)\n",
    "qisRC1m = np.array([], dtype=float)\n",
    "qulRC1m = np.array([], dtype=float)\n",
    "\n",
    "# array with every possible gate for this implementation \n",
    "arr = ['T', 'X(1/2)', 'Y(1/2)']\n",
    "# defining the device \n",
    "q = QuantumRegister(width, 'q')\n",
    "c = ClassicalRegister(width, 'c')\n",
    "circR1 = QuantumCircuit(q, c)\n",
    "\n",
    "# apply cycle Hadamards\n",
    "circR1.h(q)\n",
    "\n",
    "- Place a gate at qubit q only if this qubit is occupied by a CZ gate in the previous cycle\n",
    "- Place  a  T  gate  at  qubit q if there are no single-qubit gates in the previous cycles at qubit q except for the initial cycle of Hadamard gates.\n",
    "- Any  gate  at  qubit q should be different from the gate at qubit q in the previous cycle\n",
    "\n",
    "# Randomly applying the random circuit gate set\n",
    "for i in range(depth):\n",
    "    qubit = np.full(width, False)\n",
    "    print (qubit)\n",
    "    amountCz = np.random.randint(0,width/2)\n",
    "    print (amountCz)\n",
    "    for j in range(0, amountCz):\n",
    "        r = np.random.randint(0, width - 1)\n",
    "        if qubit[r] == False and qubit[r+1] == False:\n",
    "            circR1.cz(r, r+1)\n",
    "            qubit_cz[r] = True\n",
    "            qubit_cz[r+1] = True\n",
    "            \n",
    "    amount = np.random.randint(1, 3)\n",
    "    for g in range(amount):\n",
    "        # chosing a random gate and applying it on a random circuit\n",
    "        rGate = np.random.choice(arr)\n",
    "        i0 = np.random.randint(0, width)\n",
    "        while qubit_previous[i0] == True:\n",
    "            if rGate == 'T':\n",
    "                circR1.t(q[i0])\n",
    "            elif rGate == 'X':\n",
    "                circR1.x(q[i0])\n",
    "            elif rGate == 'Y':\n",
    "                circR1.y(q[i0])\n",
    "                \n",
    "    qubit_previous_cz = qubit\n",
    "    del qubit_cz\n",
    "    print (amountCz/amount)    \n",
    "\n",
    "circR1.barrier()\n",
    "circR1.measure(q, c)\n",
    "\n",
    "# draw the circuit"
   ]
  },
  {
   "cell_type": "code",
   "execution_count": null,
   "metadata": {},
   "outputs": [],
   "source": [
    "# amount of qubits we are going to run\n",
    "depth = 20 \n",
    "width = 6 #example\n",
    "qisQubitsRC1 = 27\n",
    "qulQubitsRC1 = 28\n",
    "\n",
    "qisRC1t = np.array([], dtype=float)\n",
    "qulRC1t = np.array([], dtype=float)\n",
    "qisRC1m = np.array([], dtype=float)\n",
    "qulRC1m = np.array([], dtype=float)\n",
    "\n",
    "# array with every possible gate for this implementation \n",
    "arr = ['H', 'T', 'X', 'Y', 'C(Z)']"
   ]
  },
  {
   "cell_type": "markdown",
   "metadata": {},
   "source": [
    "Below is an example of this implementation of a random circuit with 6 qubits.\n",
    "\n",
    "TODO: Fix gate ratios...Is the ratio of single vs controlled fixed? Is the number fixed? ratio clifford vs non clifford?\n"
   ]
  },
  {
   "cell_type": "code",
   "execution_count": null,
   "metadata": {},
   "outputs": [],
   "source": [
    "# defining the device \n",
    "q = QuantumRegister(width, 'q')\n",
    "c = ClassicalRegister(width, 'c')\n",
    "circR1 = QuantumCircuit(q, c)\n",
    "\n",
    "# Randomly applying the random circuit gate set\n",
    "for i in range(depth):\n",
    "    amount = np.random.randint(0, 3)\n",
    "    for j in range(amount):\n",
    "        # chosing a random gate and applying it on a random circuit\n",
    "        rGate = np.random.choice(arr)\n",
    "        i0 = np.random.randint(0, width)\n",
    "        i1 = np.random.randint(0, width)\n",
    "        while i0 == i1: i1 = np.random.randint(0, width)\n",
    "\n",
    "        if rGate == 'H':\n",
    "            circR1.h(q[i0])\n",
    "        elif rGate == 'T':\n",
    "            circR1.t(q[i0])\n",
    "        elif rGate == 'X':\n",
    "            circR1.x(q[i0])\n",
    "        elif rGate == 'Y':\n",
    "            circR1.y(q[i0])\n",
    "        elif rGate == 'C(Z)':\n",
    "            circR1.cz(q[i0], q[i1])\n",
    "\n",
    "circR1.barrier()\n",
    "circR1.measure(q, c)\n",
    "\n",
    "# draw the circuit\n",
    "circR1.draw(output='mpl')"
   ]
  },
  {
   "cell_type": "markdown",
   "metadata": {},
   "source": [
    "The code for measuring the time and memory (maximum resident set size: portion of memory occupied by a process that is held in main memory (RAM)) it takes to run this random circuit implementation in Qiskit:"
   ]
  },
  {
   "cell_type": "code",
   "execution_count": null,
   "metadata": {
    "pycharm": {
     "is_executing": false
    }
   },
   "outputs": [],
   "source": [
    "for k in range(2, qisQubitsRC1):\n",
    "    tt_tot = 0.0\n",
    "    rss_tot = 0.0     \n",
    "    for t in range(times):\n",
    "        tracemalloc.start()\n",
    "        t_start = time.perf_counter()\n",
    "\n",
    "        # defining the device\n",
    "        q = QuantumRegister(k, 'q')\n",
    "        c = ClassicalRegister(k, 'c')\n",
    "        circR1 = QuantumCircuit(q, c)\n",
    "\n",
    "        for i in range(depth):\n",
    "            amount = np.random.randint(0, 3)\n",
    "            for j in range(amount):\n",
    "                # chosing a random gate and applying it on a random circuit\n",
    "                rGate = np.random.choice(arr)\n",
    "                i0 = np.random.randint(0, k)\n",
    "                i1 = np.random.randint(0, k)\n",
    "                while i0 == i1: i1 = np.random.randint(0, k)\n",
    "\n",
    "                if rGate == 'H':\n",
    "                    circR1.h(q[i0])\n",
    "                elif rGate == 'T':\n",
    "                    circR1.t(q[i0])\n",
    "                elif rGate == 'X':\n",
    "                    circR1.x(q[i0])\n",
    "                elif rGate == 'Y':\n",
    "                    circR1.y(q[i0])\n",
    "                elif rGate == 'C(Z)':\n",
    "                    circR1.cz(q[i0], q[i1])\n",
    "\n",
    "        circR1.measure(q, c)\n",
    "\n",
    "        # the default backend to run the whole circuit\n",
    "        backend = Aer.get_backend('qasm_simulator')\n",
    "        job_sim = execute(circR1, backend)\n",
    "        result = job_sim.result()\n",
    "        \n",
    "        snapshot = tracemalloc.take_snapshot()\n",
    "        top_stats = snapshot.statistics('lineno')\n",
    "        tracemalloc.stop()\n",
    "        max_rss = resource.getrusage(resource.RUSAGE_SELF).ru_maxrss\n",
    "        rss_tot += max_rss \n",
    "\n",
    "        t_stop = time.perf_counter()\n",
    "        t_tot = t_stop - t_start\n",
    "        tt_tot += t_tot\n",
    "        \n",
    "    rss_avg = rss_tot / times\n",
    "    qisRC1m = np.append(qisRC1m, [t_avg])\n",
    "        \n",
    "    t_avg = tt_tot / times\n",
    "    qisRC1t = np.append(qisRC1t, [t_avg])\n",
    "\n",
    "print(qisRC1t)"
   ]
  },
  {
   "cell_type": "markdown",
   "metadata": {},
   "source": [
    "The code for measuring the time it takes to run this random circuit implementation in Qulacs:"
   ]
  },
  {
   "cell_type": "code",
   "execution_count": null,
   "metadata": {},
   "outputs": [],
   "source": [
    "for k in range(2, qulQubitsRC1):\n",
    "    rss_tot = 0.0\n",
    "    tt_tot = 0.0\n",
    "    for t in range(times):\n",
    "        t_start = time.perf_counter()\n",
    "\n",
    "        state = QuantumState(k)\n",
    "        state.set_zero_state()\n",
    "\n",
    "        circuit = QC(k)\n",
    "\n",
    "        for i in range(depth):\n",
    "            amount = np.random.randint(0, 3)\n",
    "            for j in range(amount):\n",
    "                rGate = np.random.choice(arr)\n",
    "                i0 = np.random.randint(0, k)\n",
    "                i1 = np.random.randint(0, k)\n",
    "                while i0 == i1: i1 = np.random.randint(0, k)\n",
    "\n",
    "                if rGate == 'H':\n",
    "                    circuit.add_H_gate(i0)\n",
    "                elif rGate == 'T':\n",
    "                    circuit.add_T_gate(i0)\n",
    "                elif rGate == 'X':\n",
    "                    circuit.add_X_gate(i0)\n",
    "                elif rGate == 'Y':\n",
    "                    circuit.add_Y_gate(i0)\n",
    "                elif rGate == 'C(Z)':\n",
    "                    circuit.add_CZ_gate(i0, i1)\n",
    "\n",
    "        circuit.update_quantum_state(state)\n",
    "        output = state\n",
    "        del circuit\n",
    "        del state\n",
    "                \n",
    "        snapshot = tracemalloc.take_snapshot()\n",
    "        top_stats = snapshot.statistics('lineno')\n",
    "        tracemalloc.stop()\n",
    "        max_rss = resource.getrusage(resource.RUSAGE_SELF).ru_maxrss\n",
    "\n",
    "        rss_tot += max_rss\n",
    "\n",
    "        t_stop = time.perf_counter()\n",
    "        t_tot = t_stop - t_start\n",
    "\n",
    "        tt_tot += t_tot\n",
    "        \n",
    "    rss_avg = rss_tot / times\n",
    "    qulRC1m = np.append(qulRC1m, [rss_avg])\n",
    "\n",
    "    t_avg = tt_tot / times\n",
    "    qulRC1t = np.append(qulRC1t, [t_avg])\n",
    "\n",
    "print(qulRC1t)"
   ]
  },
  {
   "cell_type": "markdown",
   "metadata": {},
   "source": [
    "This is so you can play with the amount of qubits and still can plot the graph without problems. "
   ]
  },
  {
   "cell_type": "code",
   "execution_count": null,
   "metadata": {},
   "outputs": [],
   "source": [
    "y2 = []\n",
    "if qisQubitsRC1 < qulQubitsRC1: \n",
    "    for i in range(qulQubitsRC1 - qisQubitsRC1): \n",
    "        qisRC1t = np.append(qisRC1t, [np.nan])\n",
    "    y2 = range(2, qulQubitsRC1)\n",
    "    n = qulQubitaRC1\n",
    "elif qisQubitsRC1 > qulQubitsRC1:\n",
    "    for i in range(qisQubitsRC1 - qulQubitsRC1): \n",
    "        qulRC1t = np.append(qulRC1t, [np.nan])\n",
    "    y2 = range(2, qisQubitsRC1)\n",
    "    n = qisQubitsRC1\n",
    "else:\n",
    "    y2 = range(2, qisQubitsRC1)\n",
    "    n = qulQubitaRC1"
   ]
  },
  {
   "cell_type": "markdown",
   "metadata": {
    "pycharm": {
     "is_executing": false,
     "name": "#%% md\n"
    }
   },
   "source": [
    "Below we will put these results in a graph in which you can see the time it takes to execute the random circuits on the increasing amount of qubits. "
   ]
  },
  {
   "cell_type": "code",
   "execution_count": null,
   "metadata": {
    "pycharm": {
     "is_executing": false,
     "name": "#%%\n"
    }
   },
   "outputs": [],
   "source": [
    "#fig, ax = plt.subplots(1, 1, figsize=(5, 5), dpi=150) \n",
    "# the whole graph\n",
    "plt.plot(y2, qisRC1t, 'c', label='Qiskit', linewidth=2, marker='^', markersize=4)\n",
    "plt.plot(y2, qulRC1t, 'm', label='Qulacs', linewidth=2, marker='x', markersize=4)\n",
    "plt.xticks(np.arange(2, qisQubitsRC1, step=2))\n",
    "plt.title('Random Circuit 1', fontsize=14)\n",
    "\n",
    "plt.xlabel('$n$ qubits', fontsize=14)\n",
    "plt.ylabel('time in seconds', fontsize=14)\n",
    "plt.legend()\n",
    "\n",
    "# zoomed in part\n",
    "#axins = inset_axes(ax, width=\"40%\", height=1., loc='center left', borderpad=2)\n",
    "#mark_inset(ax, axins, loc1=3, loc2=4, fc='none', ec='0.5')\n",
    "\n",
    "#axins.plot(y2, qisRC1t, 'c', label='Qiskit', linewidth=2, marker='^', markersize=4)\n",
    "#axins.plot(y2, qulRC1t, 'm', label='Qulacs', linewidth=2, marker='x', markersize=4)\n",
    "\n",
    "#axins.set_xlim(2, n)\n",
    "#axins.set_ylim(-0.01, 0.1)\n",
    "plt.xticks(np.arange(2, n, step=2))\n",
    "\n",
    "# show the whole graph\n",
    "plt.show()"
   ]
  },
  {
   "cell_type": "markdown",
   "metadata": {},
   "source": [
    "In this graph Qulacs is the most efficient. In this case Qiskit can not simulate 67 qubits, this is because the T- and the CZ-gate are not Clifford gates, their simulation scales exponentially! From this result we can conclued that the Clifford gates are only gates that are optimized in Qiskit."
   ]
  },
  {
   "cell_type": "code",
   "execution_count": null,
   "metadata": {},
   "outputs": [],
   "source": [
    "#fig, ax = plt.subplots(1, 1, figsize=(5, 5), dpi=150) \n",
    "\n",
    "# the whole graph\n",
    "plt.plot(y2, qisRC1m, 'c', label='Qiskit', linewidth=2, marker='^', markersize=4)\n",
    "plt.plot(y2, qulRC1m, 'm', label='Qulacs', linewidth=2, marker='x', markersize=4)\n",
    "plt.xticks(np.arange(2, qisQubitsRC1, step=2))\n",
    "plt.title('Random Circuit 1', fontsize=14)\n",
    "\n",
    "plt.xlabel('$n$ qubits', fontsize=14)\n",
    "plt.ylabel('Maximum resident set size', fontsize=14)\n",
    "plt.legend()\n",
    "\n",
    "plt.xticks(np.arange(2, n, step=2))\n",
    "\n",
    "# show the whole graph\n",
    "plt.show()"
   ]
  },
  {
   "cell_type": "markdown",
   "metadata": {
    "pycharm": {
     "name": "#%% md\n"
    }
   },
   "source": [
    "### 3.1 Implementation 2 (clifford gates)  <a id='RCcliftime'></a>\n",
    "\n",
    "Now lets build random circuits using a Universal set of only Clifford gates. If the Gottesman-Knill theorem\n",
    "is correct then we will get similar results as the only Hadamard operations benchmark. \n",
    "\n",
    "TODO: Any paper about this?\n",
    "Clifford circuits are efficiently classically simulable!One can compute the probability of any output (or any conditional probability) in classical polynomial time\n",
    "Conjugated Clifford Group: The Clifford group,where each gate is conjugated by a one-qubit gate U on every qubit-Gate set: (UxU)CNOT (U-1xU-1),  U H U-1, U S U-1Algebraically, it is the same as the Clifford group  –but simply a different representation of the group (change of basis)But this changes their complexity-theoreticproperties-Breaks Gottesman-KnillSimulation algorithm\n",
    "\n",
    "\n",
    "https://www.nature.com/articles/npjqi201612"
   ]
  },
  {
   "cell_type": "code",
   "execution_count": null,
   "metadata": {},
   "outputs": [],
   "source": [
    "# the amount of qubits we will run\n",
    "qisQubitsClif = 67\n",
    "qulQubitsClif = 28\n",
    "\n",
    "qisClifT = np.array([], dtype=float)\n",
    "qulClifT = np.array([], dtype=float)\n",
    "qisClifM = np.array([], dtype=float)\n",
    "qulClifM = np.array([], dtype=float)\n",
    "\n",
    "# an array with every Clifford gate\n",
    "clifford = ['H', 'S', 'X', 'Y', 'Z', 'CX']"
   ]
  },
  {
   "cell_type": "markdown",
   "metadata": {},
   "source": [
    "Below is an example of randomly appying the Clifford gates 6 qubits."
   ]
  },
  {
   "cell_type": "code",
   "execution_count": null,
   "metadata": {},
   "outputs": [],
   "source": [
    "# defining the device \n",
    "q = QuantumRegister(width, 'q')\n",
    "c = ClassicalRegister(width, 'c')\n",
    "circ = QuantumCircuit(q, c)\n",
    "\n",
    "# Randomly applying the Clifford gates\n",
    "for i in range(depth):\n",
    "    amount = np.random.randint(0, 3)\n",
    "\n",
    "    for i in range(amount):\n",
    "        # chosing a random Clifford gate\n",
    "        rGate = np.random.choice(clifford)\n",
    "        i0 = np.random.randint(0, width)\n",
    "        i1 = np.random.randint(0, width)\n",
    "        while i0 == i1: i1 = np.random.randint(0, width)\n",
    "\n",
    "        if rGate == 'H':\n",
    "            circ.h(q[i0])\n",
    "        elif rGate == 'S':\n",
    "            circ.s(q[i0])\n",
    "        elif rGate == 'X':\n",
    "            circ.x(q[i0])\n",
    "        elif rGate == 'Y':\n",
    "            circ.y(q[i0])\n",
    "        elif rGate == 'Z':\n",
    "            circ.z(q[i0])\n",
    "        elif rGate == 'CX':\n",
    "            circ.cx(q[i0], q[i1])\n",
    "\n",
    "circ.barrier()\n",
    "circ.measure(q, c)\n",
    "\n",
    "# draw the circuit\n",
    "circ.draw(output='mpl')"
   ]
  },
  {
   "cell_type": "markdown",
   "metadata": {},
   "source": [
    "The code for this random circuit implementation in Qiskit:"
   ]
  },
  {
   "cell_type": "code",
   "execution_count": null,
   "metadata": {
    "pycharm": {
     "is_executing": false,
     "name": "#%%\n"
    }
   },
   "outputs": [],
   "source": [
    "for a in range(2, qisQubitsClif):\n",
    "    tt_tot = 0.0\n",
    "    for t in range(times):\n",
    "        t_start = time.perf_counter()\n",
    "        q = QuantumRegister(a, 'q')\n",
    "        c = ClassicalRegister(a, 'c')\n",
    "        circ = QuantumCircuit(q, c)\n",
    "\n",
    "        for i in range(depth):\n",
    "            amount = np.random.randint(0, 3)\n",
    "\n",
    "            for i in range(amount):\n",
    "                # chosing a random Clifford gate\n",
    "                rGate = np.random.choice(clifford)\n",
    "                i0 = np.random.randint(0, a)\n",
    "                i1 = np.random.randint(0, a)\n",
    "                while i0 == i1: i1 = np.random.randint(0, a)\n",
    "\n",
    "                if rGate == 'H':\n",
    "                    circ.h(q[i0])\n",
    "                elif rGate == 'S':\n",
    "                    circ.s(q[i0])\n",
    "                elif rGate == 'X':\n",
    "                    circ.x(q[i0])\n",
    "                elif rGate == 'Y':\n",
    "                    circ.y(q[i0])\n",
    "                elif rGate == 'Z':\n",
    "                    circ.z(q[i0])\n",
    "                elif rGate == 'CX':\n",
    "                    circ.cx(q[i0], q[i1])\n",
    "\n",
    "        circ.measure(q, c)\n",
    "\n",
    "        backend = Aer.get_backend('qasm_simulator')\n",
    "        job_sim = execute(circ, backend)\n",
    "        sim_result = job_sim.result()\n",
    "\n",
    "        t_stop = time.perf_counter()\n",
    "        t_tot = t_stop - t_start\n",
    "        tt_tot += t_tot\n",
    "\n",
    "    t_avg = tt_tot / times\n",
    "    qisClifT = np.append(qisClifT, [t_avg])\n",
    "\n",
    "print(qisClifT)"
   ]
  },
  {
   "cell_type": "markdown",
   "metadata": {},
   "source": [
    "The code for this random circuit implementation in Qulacs:"
   ]
  },
  {
   "cell_type": "code",
   "execution_count": null,
   "metadata": {},
   "outputs": [],
   "source": [
    "for a in range(2, qulQubitsClif):\n",
    "    tt_tot = 0.0\n",
    "    for t in range(times):\n",
    "        t_start = time.perf_counter()\n",
    "\n",
    "        state = QuantumState(a)\n",
    "        state.set_zero_state()\n",
    "\n",
    "        circuit = QC(a)\n",
    "\n",
    "        for i in range(depth):\n",
    "            amount = np.random.randint(0, 3)\n",
    "            for j in range(amount):\n",
    "                rGate = np.random.choice(clifford)\n",
    "                i0 = np.random.randint(0, a)\n",
    "                i1 = np.random.randint(0, a)\n",
    "                while i0 == i1: i1 = np.random.randint(0, a)\n",
    "\n",
    "                if rGate == 'H':\n",
    "                    circuit.add_H_gate(i0)\n",
    "                elif rGate == 'S':\n",
    "                    circuit.add_S_gate(i0)\n",
    "                elif rGate == 'X':\n",
    "                    circuit.add_X_gate(i0)\n",
    "                elif rGate == 'Y':\n",
    "                    circuit.add_Y_gate(i0)\n",
    "                elif rGate == 'Z':\n",
    "                    circuit.add_Z_gate(i0)\n",
    "                elif rGate == 'CX':\n",
    "                    circuit.add_CNOT_gate(i0, i1)\n",
    "\n",
    "        circuit.update_quantum_state(state)\n",
    "        output = state\n",
    "        del circuit\n",
    "        del state\n",
    "\n",
    "        t_stop = time.perf_counter()\n",
    "\n",
    "        t_tot = t_stop - t_start\n",
    "        tt_tot += t_tot\n",
    "\n",
    "    t_avg = tt_tot / times\n",
    "    qulClifT = np.append(qulClifT, [t_avg])\n",
    "\n",
    "print(qulClifT)"
   ]
  },
  {
   "cell_type": "markdown",
   "metadata": {},
   "source": [
    "This is so you can play with the amount of qubits and still can plot the graph without problems. "
   ]
  },
  {
   "cell_type": "code",
   "execution_count": null,
   "metadata": {},
   "outputs": [],
   "source": [
    "y4 = []\n",
    "if qisQubitsClif < qulQubitsClif: \n",
    "    for i in range(qulQubitsClif - qisQubitsClif): \n",
    "        qisClifT = np.append(qisClifT, [np.nan])\n",
    "    y4 = range(2, qulQubitsClif)\n",
    "    n = qulQubitsClif\n",
    "elif qisQubitsClif > qulQubitsClif:\n",
    "    for i in range(qisQubitsClif - qulQubitsClif): \n",
    "        qulClifT = np.append(qulClifT, [np.nan])\n",
    "    y4 = range(2, qisQubitsClif)\n",
    "    n = qisQubitsClif\n",
    "else:\n",
    "    y4 = range(2, qisQubitsClif)\n",
    "    n = qisQubitsClif"
   ]
  },
  {
   "cell_type": "markdown",
   "metadata": {
    "pycharm": {
     "is_executing": false,
     "name": "#%% md\n"
    }
   },
   "source": [
    "Below we will put these results in a graph in which you can see the time it takes to execute the random circuits on the increasing amount of qubits. "
   ]
  },
  {
   "cell_type": "code",
   "execution_count": null,
   "metadata": {
    "pycharm": {
     "is_executing": false,
     "name": "#%%\n"
    }
   },
   "outputs": [],
   "source": [
    "#fig, ax = plt.subplots(1, 1, figsize=(5, 5), dpi=150) \n",
    "\n",
    "# the whole graph\n",
    "plt.plot(y4, qisClifT, 'c', label='Qiskit', linewidth=2, marker='^', markersize=4)\n",
    "plt.plot(y4, qulClifT, 'm', label='Qulacs', linewidth=2, marker='x', markersize=4)\n",
    "plt.xticks(np.arange(2, n, step=4))\n",
    "plt.title('Time Clifford gates', fontsize=14)\n",
    "\n",
    "plt.xlabel('$n$ qubits', fontsize=14)\n",
    "plt.ylabel('time in seconds', fontsize=14)\n",
    "plt.legend()\n",
    "\n",
    "# zoomed in part\n",
    "#axins = inset_axes(ax, width=\"40%\", height=1., loc='center right', borderpad=2)\n",
    "#mark_inset(ax, axins, loc1=3, loc2=4, fc='none', ec='0.5')\n",
    "\n",
    "#axins.plot(y4, qisClifT, 'c', label='Qiskit', linewidth=2, marker='^', markersize=4)\n",
    "#axins.plot(y4, qulClifT, 'm', label='Qulacs', linewidth=2, marker='x', markersize=4)\n",
    "#\n",
    "#axins.set_xlim(2, 21)\n",
    "#axins.set_ylim(-0.01, 0.1)\n",
    "plt.xticks(np.arange(2, n, step=2))\n",
    "\n",
    "# show the whole graph\n",
    "plt.show()"
   ]
  },
  {
   "cell_type": "markdown",
   "metadata": {},
   "source": [
    "In the benchmark for this implementation of random circuits you can see Qiskit can efficiently simulate more then 67 qubits. This means that we now know Qiskit is using the Gottesman-Knill theorem, while Qulacs is not. But Qiskit is not efficient with a low number of qubits, in that case Qulacs is better. "
   ]
  },
  {
   "cell_type": "code",
   "execution_count": null,
   "metadata": {},
   "outputs": [],
   "source": [
    "# the whole graph\n",
    "plt.plot(y4, qisClifM, 'c', label='Qiskit', linewidth=2, marker='^', markersize=4)\n",
    "plt.plot(y4, qulClifM, 'm', label='Qulacs', linewidth=2, marker='x', markersize=4)\n",
    "plt.xticks(np.arange(2, n, step=4))\n",
    "plt.title('Memory Clifford gates', fontsize=14)\n",
    "\n",
    "plt.xlabel('$n$ qubits', fontsize=14)\n",
    "plt.ylabel('time in seconds', fontsize=14)\n",
    "plt.legend()\n",
    "\n",
    "plt.xticks(np.arange(2, n, step=2))\n",
    "\n",
    "# show the whole graph\n",
    "plt.show()"
   ]
  },
  {
   "cell_type": "markdown",
   "metadata": {},
   "source": [
    "As you can see the amount of rss it is the same in qulacs and qiskit for the random clifford gates untill the 27th qubit then Qulacs uses a lot of memory, because computating on a large vector takes a lot of comute power. Qiskit has optimized these gates so this doesn't happen in this library. Qulacs is a libary that gives an out of memory error pretty fast you can also see this if you play around with the amount of qubits in this notebook."
   ]
  },
  {
   "cell_type": "markdown",
   "metadata": {},
   "source": [
    "### 2.6. Running on a QPU <a id='ibmQPU'></a>\n",
    "\n",
    "Finally we will benchmark the random Clifford gates on a QPU to see how long the run time is. To obtain the token you need an IBMQ account https://quantum-computing.ibm.com/. After registering click on \"My Account\" there you will find the token to start running circuits on QPU's. For more information on how to run on a QPU with Qiskit: https://github.com/Qiskit/qiskit-ibmq-provider."
   ]
  },
  {
   "cell_type": "code",
   "execution_count": null,
   "metadata": {
    "scrolled": true
   },
   "outputs": [],
   "source": [
    "token = '305f9ad0bd1baaacbaad000767927490e3924c38126a79ca6ca4ea96114d1e25cdf84d664cd15bb1798b793607fe852abdb675f1ec3cad3d2e1219d470295735' # put you token here\n",
    "provider = IBMQ.enable_account(token)"
   ]
  },
  {
   "cell_type": "markdown",
   "metadata": {},
   "source": [
    "We will run this circuit on the ibmq_london, because this queue is most of the time not as busy as the other QPU's. On the ibmq_london is a QPU with 5 qubits. If you want to use more then 5 qubits the ibmq_16_melbourne is recommend, this QPU had 16 qubits but is always busy. "
   ]
  },
  {
   "cell_type": "code",
   "execution_count": null,
   "metadata": {},
   "outputs": [],
   "source": [
    "qubitsQPU = 6\n",
    "qpuRunT = np.array([], dtype=float)"
   ]
  },
  {
   "cell_type": "markdown",
   "metadata": {},
   "source": [
    "Below we will run the random Clifford gates circuits on the QPU ibmq_london. This might take a while, because there is a queue. The time we measure is not the total time, but the time the circuit has run in the QPU."
   ]
  },
  {
   "cell_type": "code",
   "execution_count": null,
   "metadata": {},
   "outputs": [],
   "source": [
    "for k in range(2, qubitsQPU):\n",
    "    q = QuantumRegister(k, 'q')\n",
    "    c = ClassicalRegister(k, 'c')\n",
    "    circ = QuantumCircuit(q, c)\n",
    "\n",
    "    for i in range(depth):\n",
    "        amount = np.random.randint(0, 3)\n",
    "\n",
    "    for i in range(amount):\n",
    "        # chosing a random Clifford gate\n",
    "        rGate = np.random.choice(clifford)\n",
    "        i0 = np.random.randint(0, k)\n",
    "        i1 = np.random.randint(0, k)\n",
    "        while i0 == i1: i1 = np.random.randint(0, k)\n",
    "\n",
    "        if rGate == 'H':\n",
    "            circ.h(q[i0])\n",
    "        elif rGate == 'S':\n",
    "            circ.s(q[i0])\n",
    "        elif rGate == 'X':\n",
    "            circ.x(q[i0])\n",
    "        elif rGate == 'Y':\n",
    "            circ.y(q[i0])\n",
    "        elif rGate == 'Z':\n",
    "            circ.z(q[i0])\n",
    "        elif rGate == 'CX':\n",
    "            circ.cx(q[i0], q[i1])\n",
    "\n",
    "    circ.measure(q, c)\n",
    "\n",
    "    backend = provider.get_backend('ibmq_london') # to run on the ibmq_london device\n",
    "    job = execute(circ, backend=backend, shots=1024)\n",
    "    qpuRunT = np.append(qpuRunT, [job.result().time_taken])\n",
    "    print(f'{k}: {job.result().time_taken}')\n",
    "\n",
    "print(qpuRunT)"
   ]
  },
  {
   "cell_type": "markdown",
   "metadata": {},
   "source": [
    "Below we will plot the results of the run time with the increasing amount of qubits."
   ]
  },
  {
   "cell_type": "code",
   "execution_count": null,
   "metadata": {},
   "outputs": [],
   "source": [
    "y6 = range(2, qubitsQPU)\n",
    "fig, ax = plt.subplots(1, 1, figsize=(5, 5), dpi=150) \n",
    "\n",
    "# the whole graph\n",
    "ax.plot(y6, qpuRunT, 'c', label='Qiskit', linewidth=2, marker='^', markersize=4)\n",
    "plt.xticks(np.arange(2, qubitsQPU, step=1))\n",
    "plt.title('Clifford gates on the ibmq_london', fontsize=14)\n",
    "\n",
    "plt.xlabel('$n$ qubits', fontsize=14)\n",
    "plt.ylabel('time in seconds', fontsize=14)\n",
    "ax.legend()\n",
    "\n",
    "# show the whole graph\n",
    "plt.show()"
   ]
  },
  {
   "cell_type": "markdown",
   "metadata": {},
   "source": [
    "As you can see the run time is a lot slower then when we simulated the random Clifford gates in section 2.3.. "
   ]
  },
  {
   "cell_type": "markdown",
   "metadata": {},
   "source": [
    "Using real devices gives you two major constraints to deal with. One is the connectivity, and the other is noise.\n",
    "he connectivity tells you what cx gates it is possible to do perform directly. For example, the device ibmq_5_tenerife has five qubits numbered from 0 to 4. It has a connectivity defined by\n",
    "\n",
    "coupling_map = [[1, 0], [2, 0], [2, 1], [3, 2], [3, 4], [4, 2]]\n",
    "\n",
    "Here the [1,0] tells us that we can implement a cx with qubit 1 as control and qubit 0 as target, the [2,0] tells us we can have qubit 2 as control and 0 as target, and so on. These are the cx gates that the device can implement directly.\n",
    "\n",
    "The 'noise' of a device is the collective effects of all the things that shouldn't happen, but nevertheless do happen. Noise results in the output not always having the result we expect. There is noise associated with all processes in a quantum circuit: preparing the initial states, applying gates and measuring the output. For the gates, noise levels can vary between different gates and between different qubits. The cx gates are typically more noisy than any single qubit gate.\n",
    "\n",
    "We can also simulate noise using a noise model. And we can set the noise model based on measurements of the noise for a real device. The following noise model is based on ibmq_5_tenerife.\n"
   ]
  },
  {
   "cell_type": "markdown",
   "metadata": {},
   "source": [
    "## 3. Conclusion <a id='conclusion'></a>\n",
    "\n",
    "To further develop quantum algorithms it is necessary to have quantum software. Already there are a lot of different quantum software and libraries, therefore it would be great to look at the performances of some libraries. In this notebook we saw that a lot of research papers use random circuits to benchmark quantum and with quantum software and libraries most compare the time and memory it takes to execute a circuit. The problem with quantum simulators is that there are a lot and they are all different, this means it is difficult to compare these software and libraries with each other in a benchmark. \n",
    "\n",
    "In this notebook we have looked at the two python libraries Qiskit and Qulacs. These libraries have been chosen, because they are different from each other and interesting for researchers. Qiskit is a full-stack library with a lot of documentation and beginners guides, Qulacs is said to run fast and can run on a GPU. \n",
    "\n",
    "From the benchmarks in this notebook the conclusion is that Qulacs for circuits with 20 or less qubits the fastest is, because it compresses circuits to simulate them faster. But Qiskit is best for using Clifford gates on more then 20 qubits. Qulacs uses more maximum resident set size then Qiskit. "
   ]
  },
  {
   "cell_type": "markdown",
   "metadata": {
    "pycharm": {
     "name": "#%% md\n"
    }
   },
   "source": [
    "## References <a id='references'></a>\n",
    "\n",
    "1. Aaronson, S., & Gottesman, D. (2004). Improved simulation of stabilizer circuits.Physical ReviewA,70(5), 1–15. https://doi.org/10.1103/physreva.70.052328\n",
    "\n",
    "2. Abraham,  H.,  Akhalwaya,  I.  Y.,  Aleksandrowicz,  G.,  Alexander,  T.,  Alexandrowics,  G.,  Arbel,E.,  Asfaw,  A.,  Azaustre,  C.,  AzizNgoueya,  Barkoutsos,  P.,  Barron,  G.,  Bello,  L.,  Ben-Haim,  Y.,  Bevenius,  D.,  Bishop,  L.  S.,  Bosch,  S.,  Bravyi,  S.,  Bucher,  D.,  Cabrera,  F.,. . .  yotamvakninibm. (2019). Qiskit: An open-source framework for quantum computing.https://doi.org/10.5281/zenodo.2562110\n",
    "\n",
    "3. Asfaw, A., Bello, L., Ben-Haim, Y., Bravyi, S., Capelluto, L., Vazquez, A. C., Ceroni, J., Chen, R.,Frisch, A., Gambetta, J., Garion, S., Gil, L., Gonzalez, S. D. L. P., Harkins, F., Imamichi,T., McKay, D., Mezzacapo, A., Minev, Z., Movassagh, R., . . .  Wootton, J. (2020). Learnquantum computation using qiskit. http://community.qiskit.org/textbook\n",
    "\n",
    "4. Emerson, J. (2004). Pseudo-random unitary operators for quantum information processing.Sci-ence,302(5653). https://doi.org/10.1126/science.1090790\n",
    "\n",
    "5. Fingerhuth,  M.,  Babej,  T.,  &  Wittek,  P.  (2018).  Open  source  software  in  quantum  computing.PLOS ONE,13(12), 1–28. https://doi.org/10.1371/journal.pone.0208561\n",
    "\n",
    "6. Jones, T., Brown, A., Bush, I., & Benjamin, S. (2018). Quest and high performance simulation ofquantum computers. https://arxiv.org/pdf/1802.08032.pdf\n",
    "\n",
    "7. Qulacs. (2018). https://github.com/qulacs/qulacs"
   ]
  }
 ],
 "metadata": {
  "kernelspec": {
   "display_name": "Python 3",
   "language": "python",
   "name": "python3"
  },
  "language_info": {
   "codemirror_mode": {
    "name": "ipython",
    "version": 3
   },
   "file_extension": ".py",
   "mimetype": "text/x-python",
   "name": "python",
   "nbconvert_exporter": "python",
   "pygments_lexer": "ipython3",
   "version": "3.8.3"
  },
  "pycharm": {
   "stem_cell": {
    "cell_type": "raw",
    "metadata": {
     "collapsed": false
    },
    "source": []
   }
  }
 },
 "nbformat": 4,
 "nbformat_minor": 2
}
